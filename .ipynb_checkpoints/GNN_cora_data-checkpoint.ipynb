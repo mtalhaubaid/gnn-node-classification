{
 "cells": [
  {
   "cell_type": "code",
   "execution_count": 33,
   "id": "f213cc8c",
   "metadata": {},
   "outputs": [],
   "source": [
    "from torch_geometric.datasets import Planetoid\n",
    "import torch\n",
    "import torch.nn.functional as F\n",
    "from torch_geometric.nn import MessagePassing\n",
    "from torch_geometric.utils import add_self_loops, degree\n",
    "import networkx as nx\n",
    "import numpy as np\n",
    "import matplotlib.pyplot as plt"
   ]
  },
  {
   "cell_type": "markdown",
   "id": "a46e2cd0",
   "metadata": {},
   "source": [
    "# Model Construction "
   ]
  },
  {
   "cell_type": "code",
   "execution_count": 34,
   "id": "44a84c3a",
   "metadata": {},
   "outputs": [],
   "source": [
    "class GCNConv(MessagePassing):\n",
    "    # Applies a linear tranformation to the incoming data\n",
    "    def __init__(self, in_channels, out_channels):\n",
    "        super(GCNConv, self).__init__(aggr='add')  # \"Add\" aggregation\n",
    "        self.lin = torch.nn.Linear(in_channels, out_channels)\n",
    "\n",
    "    def forward(self, x, edge_index):\n",
    "        # Step 1: Add self-loops\n",
    "        edge_index, _ = add_self_loops(edge_index, num_nodes=x.size(0))\n",
    "\n",
    "        # Step 2: Multiply with weights\n",
    "        x = self.lin(x)\n",
    "\n",
    "        # Step 3: Calculate the normalization\n",
    "        row, col = edge_index\n",
    "        deg = degree(row, x.size(0), dtype=x.dtype)\n",
    "        deg_inv_sqrt = deg.pow(-0.5)\n",
    "        norm = deg_inv_sqrt[row] * deg_inv_sqrt[col]\n",
    "\n",
    "        # Step 4: Propagate the embeddings to the next layer\n",
    "        return self.propagate(edge_index, size=(x.size(0), x.size(0)), x=x,\n",
    "                              norm=norm)\n",
    "\n",
    "    def message(self, x_j, norm):\n",
    "        # Normalize node features.\n",
    "        return norm.view(-1, 1) * x_j\n"
   ]
  },
  {
   "cell_type": "code",
   "execution_count": 35,
   "id": "2fd89118",
   "metadata": {},
   "outputs": [],
   "source": [
    "class Net(torch.nn.Module):\n",
    "\n",
    "    def __init__(self, dataset):\n",
    "        super(Net, self).__init__()\n",
    "        # two convolution layers of GCN\n",
    "        # first represnt the input and the second represnt the output layer\n",
    "        # dataset.num_node_features== number of input\n",
    "        # 16 hidden layers\n",
    "        # dataset.num_classes==outputclass\n",
    "        self.conv1 = GCNConv(dataset.num_node_features, 16)\n",
    "        self.conv2 = GCNConv(16, dataset.num_classes)\n",
    "    # represent the weights updates\n",
    "    # weights in output\n",
    "    def forward(self, data):\n",
    "        x, edge_index = data.x, data.edge_index\n",
    "#         print(x)\n",
    "#         print(edge_index)\n",
    "        x = self.conv1(x, edge_index)\n",
    "#         print('first convo X:',x)\n",
    "        x = F.relu(x)\n",
    "        x = F.dropout(x, training=self.training)\n",
    "        x = self.conv2(x, edge_index)\n",
    "#         print('sec convo X:',x)\n",
    "\n",
    "        return F.log_softmax(x, dim=1)\n",
    "\n"
   ]
  },
  {
   "cell_type": "code",
   "execution_count": 36,
   "id": "10ba5de6",
   "metadata": {},
   "outputs": [],
   "source": [
    "# def plot_dataset(dataset):\n",
    "#     edges_raw = dataset.data.edge_index.numpy()\n",
    "#     edges = [(x, y) for x, y in zip(edges_raw[0, :], edges_raw[1, :])]\n",
    "#     labels = dataset.data.y.numpy()\n",
    "\n",
    "#     G = nx.Graph()\n",
    "#     G.add_nodes_from(list(range(np.max(edges_raw))))\n",
    "#     G.add_edges_from(edges)\n",
    "#     plt.subplot(111)\n",
    "#     options = {\n",
    "#                 'node_size': 30,\n",
    "#                 'width': 0.2,\n",
    "#     }\n",
    "#     nx.draw(G, with_labels=False, node_color=labels.tolist(), cmap=plt.cm.tab10, font_weight='bold', **options)\n",
    "#     plt.show()\n"
   ]
  },
  {
   "cell_type": "code",
   "execution_count": 37,
   "id": "fe706aac",
   "metadata": {},
   "outputs": [],
   "source": [
    "def test(data, train=True):\n",
    "    model.eval()\n",
    "\n",
    "    correct = 0\n",
    "    pred = model(data).max(dim=1)[1]\n",
    "\n",
    "    if train:\n",
    "        correct += pred[data.train_mask].eq(data.y[data.train_mask]).sum().item()\n",
    "        return correct / (len(data.y[data.train_mask]))\n",
    "    else:\n",
    "        correct += pred[data.test_mask].eq(data.y[data.test_mask]).sum().item()\n",
    "        return correct / (len(data.y[data.test_mask]))"
   ]
  },
  {
   "cell_type": "code",
   "execution_count": 38,
   "id": "5ee50e2e",
   "metadata": {},
   "outputs": [],
   "source": [
    "def train(data, plot=False):\n",
    "    train_accuracies, test_accuracies = list(), list()\n",
    "    for epoch in range(100):\n",
    "            model.train()\n",
    "            optimizer.zero_grad()\n",
    "            out = model(data)\n",
    "            print(out)\n",
    "            print(data.y[data.train_mask])\n",
    "            loss = F.nll_loss(out[data.train_mask], data.y[data.train_mask])\n",
    "            loss.backward()\n",
    "            optimizer.step()\n",
    "\n",
    "            train_acc = test(data)\n",
    "            test_acc = test(data, train=False)\n",
    "\n",
    "            train_accuracies.append(train_acc)\n",
    "            test_accuracies.append(test_acc)\n",
    "            print('Epoch: {:03d}, Loss: {:.5f}, Train Acc: {:.5f}, Test Acc: {:.5f}'.\n",
    "                  format(epoch, loss, train_acc, test_acc))\n",
    "\n",
    "    # torch.save(model.state_dict(), 'new_model_weights.pth')"
   ]
  },
  {
   "cell_type": "code",
   "execution_count": 39,
   "id": "91a4f4d3",
   "metadata": {},
   "outputs": [],
   "source": [
    "# if plot:\n",
    "#     plt.plot(train_accuracies, label=\"Train accuracy\")\n",
    "#     plt.plot(test_accuracies, label=\"Validation accuracy\")\n",
    "#     plt.xlabel(\"# Epoch\")\n",
    "#     plt.ylabel(\"Accuracy\")\n",
    "#     plt.legend(loc='upper right')\n",
    "#     plt.show()"
   ]
  },
  {
   "cell_type": "markdown",
   "id": "f5206811",
   "metadata": {},
   "source": [
    "# Dataset loading "
   ]
  },
  {
   "cell_type": "code",
   "execution_count": 40,
   "id": "50f91634",
   "metadata": {},
   "outputs": [],
   "source": [
    "dataset = Planetoid(root='cora_dataset', name='Cora')"
   ]
  },
  {
   "cell_type": "code",
   "execution_count": 41,
   "id": "c47ebced",
   "metadata": {},
   "outputs": [
    {
     "data": {
      "text/plain": [
       "Data(x=[2708, 1433], edge_index=[2, 10556], y=[2708], train_mask=[2708], val_mask=[2708], test_mask=[2708])"
      ]
     },
     "execution_count": 41,
     "metadata": {},
     "output_type": "execute_result"
    }
   ],
   "source": [
    "dataset[0]"
   ]
  },
  {
   "cell_type": "code",
   "execution_count": 42,
   "id": "208cb736",
   "metadata": {},
   "outputs": [
    {
     "data": {
      "text/plain": [
       "tensor([[0., 0., 0.,  ..., 0., 0., 0.],\n",
       "        [0., 0., 0.,  ..., 0., 0., 0.],\n",
       "        [0., 0., 0.,  ..., 0., 0., 0.],\n",
       "        ...,\n",
       "        [0., 0., 0.,  ..., 0., 0., 0.],\n",
       "        [0., 0., 0.,  ..., 0., 0., 0.],\n",
       "        [0., 0., 0.,  ..., 0., 0., 0.]])"
      ]
     },
     "execution_count": 42,
     "metadata": {},
     "output_type": "execute_result"
    }
   ],
   "source": [
    "dataset.data.x"
   ]
  },
  {
   "cell_type": "code",
   "execution_count": 43,
   "id": "d9a362e9",
   "metadata": {},
   "outputs": [
    {
     "data": {
      "text/plain": [
       "tensor([[   0,    0,    0,  ..., 2707, 2707, 2707],\n",
       "        [ 633, 1862, 2582,  ...,  598, 1473, 2706]])"
      ]
     },
     "execution_count": 43,
     "metadata": {},
     "output_type": "execute_result"
    }
   ],
   "source": [
    "dataset.data.edge_index"
   ]
  },
  {
   "cell_type": "code",
   "execution_count": 44,
   "id": "d8b67426",
   "metadata": {},
   "outputs": [
    {
     "data": {
      "text/plain": [
       "tensor([3, 4, 4,  ..., 3, 3, 3])"
      ]
     },
     "execution_count": 44,
     "metadata": {},
     "output_type": "execute_result"
    }
   ],
   "source": [
    "dataset.data.y"
   ]
  },
  {
   "cell_type": "code",
   "execution_count": 45,
   "id": "395f1cdc",
   "metadata": {},
   "outputs": [
    {
     "name": "stdout",
     "output_type": "stream",
     "text": [
      "train_mask= tensor(True)\n",
      "train_mask= tensor(4)\n"
     ]
    }
   ],
   "source": [
    "print(\"train_mask=\",dataset.data.train_mask[1])\n",
    "print(\"train_mask=\",dataset.data.y[1])"
   ]
  },
  {
   "cell_type": "code",
   "execution_count": 46,
   "id": "71a7f23a",
   "metadata": {},
   "outputs": [
    {
     "name": "stdout",
     "output_type": "stream",
     "text": [
      "train_mask all= tensor([ True,  True,  True,  ..., False, False, False])\n",
      "val_mask all= tensor([False, False, False,  ..., False, False, False])\n",
      "y= tensor([3, 4, 4,  ..., 3, 3, 3])\n"
     ]
    }
   ],
   "source": [
    "print(\"train_mask all=\",dataset.data.train_mask)\n",
    "print(\"val_mask all=\",dataset.data.val_mask)\n",
    "print(\"y=\",dataset.data.y)"
   ]
  },
  {
   "cell_type": "code",
   "execution_count": 47,
   "id": "c0de951b",
   "metadata": {},
   "outputs": [
    {
     "data": {
      "text/plain": [
       "Data(x=[2708, 1433], edge_index=[2, 10556], y=[2708], train_mask=[2708], val_mask=[2708], test_mask=[2708])"
      ]
     },
     "execution_count": 47,
     "metadata": {},
     "output_type": "execute_result"
    }
   ],
   "source": [
    "import torch\n",
    "dataset[0]"
   ]
  },
  {
   "cell_type": "code",
   "execution_count": 50,
   "id": "0192ce6c",
   "metadata": {},
   "outputs": [
    {
     "data": {
      "text/plain": [
       "Data(x=[2708, 1433], edge_index=[2, 10556], y=[2708], train_mask=[2708], val_mask=[2708], test_mask=[2708])"
      ]
     },
     "execution_count": 50,
     "metadata": {},
     "output_type": "execute_result"
    }
   ],
   "source": [
    "dataset[0]"
   ]
  },
  {
   "cell_type": "code",
   "execution_count": 51,
   "id": "49685383",
   "metadata": {},
   "outputs": [
    {
     "name": "stdout",
     "output_type": "stream",
     "text": [
      "Cora()\n",
      "number of graph: 1\n",
      "number of classes: 7\n",
      "number of node features: 1433\n"
     ]
    }
   ],
   "source": [
    "print(dataset)\n",
    "print(\"number of graph:\" ,len(dataset))\n",
    "print(\"number of classes:\", dataset.num_classes)\n",
    "print(\"number of node features:\", dataset.num_node_features)\n",
    "# print(\"number of edge features:\\t\",dataset.num_edge_features)"
   ]
  },
  {
   "cell_type": "code",
   "execution_count": 19,
   "id": "7a5a5e70",
   "metadata": {},
   "outputs": [
    {
     "name": "stdout",
     "output_type": "stream",
     "text": [
      "edge_index shape:\t torch.Size([2, 10556])\n",
      "edge_index= tensor([[   0,    0,    0,  ..., 2707, 2707, 2707],\n",
      "        [ 633, 1862, 2582,  ...,  598, 1473, 2706]])\n",
      "\n",
      "\n",
      "train_mask shape:\t torch.Size([2708])\n",
      "train_mask= tensor([ True,  True,  True,  ..., False, False, False])\n",
      "\n",
      "\n",
      "x shape:\t torch.Size([2708, 1433])\n",
      "Shape of x= tensor([[0., 0., 0.,  ..., 0., 0., 0.],\n",
      "        [0., 0., 0.,  ..., 0., 0., 0.],\n",
      "        [0., 0., 0.,  ..., 0., 0., 0.],\n",
      "        ...,\n",
      "        [0., 0., 0.,  ..., 0., 0., 0.],\n",
      "        [0., 0., 0.,  ..., 0., 0., 0.],\n",
      "        [0., 0., 0.,  ..., 0., 0., 0.]])\n",
      "\n",
      "\n",
      "y shape:\t torch.Size([2708])\n",
      "y tensor([3, 4, 4,  ..., 3, 3, 3])\n"
     ]
    }
   ],
   "source": [
    "print(\"edge_index shape:\\t\", dataset.data.edge_index.shape)\n",
    "print(\"edge_index=\",dataset.data.edge_index)\n",
    "print('\\n')\n",
    "print(\"train_mask shape:\\t\", dataset.data.train_mask.shape)\n",
    "print(\"train_mask=\",dataset.data.train_mask)\n",
    "print('\\n')\n",
    "print(\"x shape:\\t\", dataset.data.x.shape)\n",
    "print(\"Shape of x=\",dataset.data.x)\n",
    "print('\\n')\n",
    "print(\"y shape:\\t\", dataset.data.y.shape)\n",
    "print('y',dataset.data.y)"
   ]
  },
  {
   "cell_type": "code",
   "execution_count": 20,
   "id": "59eed071",
   "metadata": {},
   "outputs": [],
   "source": [
    "# print(\"Total data view:\",data)"
   ]
  },
  {
   "cell_type": "code",
   "execution_count": 21,
   "id": "4e043ea9",
   "metadata": {},
   "outputs": [],
   "source": [
    "# for i in data:\n",
    "#     print(i)"
   ]
  },
  {
   "cell_type": "code",
   "execution_count": 52,
   "id": "a1dd4c00",
   "metadata": {},
   "outputs": [],
   "source": [
    "model = Net(dataset)"
   ]
  },
  {
   "cell_type": "code",
   "execution_count": 53,
   "id": "8101f337",
   "metadata": {},
   "outputs": [],
   "source": [
    "optimizer = torch.optim.Adam(model.parameters(), lr=0.01, weight_decay=5e-4)"
   ]
  },
  {
   "cell_type": "markdown",
   "id": "275227f9",
   "metadata": {},
   "source": [
    "# Train model function call "
   ]
  },
  {
   "cell_type": "code",
   "execution_count": 54,
   "id": "27b7d1da",
   "metadata": {},
   "outputs": [],
   "source": [
    "device = torch.device('cuda' if torch.cuda.is_available() else 'cpu')"
   ]
  },
  {
   "cell_type": "code",
   "execution_count": 55,
   "id": "bac97bd6",
   "metadata": {},
   "outputs": [
    {
     "ename": "NameError",
     "evalue": "name 'data' is not defined",
     "output_type": "error",
     "traceback": [
      "\u001b[1;31m---------------------------------------------------------------------------\u001b[0m",
      "\u001b[1;31mNameError\u001b[0m                                 Traceback (most recent call last)",
      "\u001b[1;32m~\\AppData\\Local\\Temp/ipykernel_11280/391604064.py\u001b[0m in \u001b[0;36m<module>\u001b[1;34m\u001b[0m\n\u001b[1;32m----> 1\u001b[1;33m \u001b[0mdata\u001b[0m\u001b[1;33m\u001b[0m\u001b[1;33m\u001b[0m\u001b[0m\n\u001b[0m",
      "\u001b[1;31mNameError\u001b[0m: name 'data' is not defined"
     ]
    }
   ],
   "source": [
    "data"
   ]
  },
  {
   "cell_type": "code",
   "execution_count": 27,
   "id": "3a592771",
   "metadata": {},
   "outputs": [
    {
     "ename": "NameError",
     "evalue": "name 'Data' is not defined",
     "output_type": "error",
     "traceback": [
      "\u001b[1;31m---------------------------------------------------------------------------\u001b[0m",
      "\u001b[1;31mNameError\u001b[0m                                 Traceback (most recent call last)",
      "\u001b[1;32m~\\AppData\\Local\\Temp/ipykernel_11280/789991269.py\u001b[0m in \u001b[0;36m<module>\u001b[1;34m\u001b[0m\n\u001b[1;32m----> 1\u001b[1;33m \u001b[0mtrain\u001b[0m\u001b[1;33m(\u001b[0m\u001b[0mData\u001b[0m\u001b[1;33m,\u001b[0m \u001b[0mplot\u001b[0m\u001b[1;33m=\u001b[0m\u001b[1;32mFalse\u001b[0m\u001b[1;33m)\u001b[0m\u001b[1;33m\u001b[0m\u001b[1;33m\u001b[0m\u001b[0m\n\u001b[0m",
      "\u001b[1;31mNameError\u001b[0m: name 'Data' is not defined"
     ]
    }
   ],
   "source": [
    "train(data, plot=False)"
   ]
  },
  {
   "cell_type": "markdown",
   "id": "862d6349",
   "metadata": {},
   "source": [
    "# Prediction on direct model learning"
   ]
  },
  {
   "cell_type": "code",
   "execution_count": null,
   "id": "5e49d2f8",
   "metadata": {},
   "outputs": [],
   "source": [
    "y_pred=model(dataset[0])\n",
    "pred"
   ]
  },
  {
   "cell_type": "code",
   "execution_count": null,
   "id": "989b5ce4",
   "metadata": {},
   "outputs": [],
   "source": [
    "print('prediction_by_model:',[np.argmax(i) for i in y_pred.tolist()])\n",
    "print('actual y values____:',dataset[0].y.tolist())"
   ]
  },
  {
   "cell_type": "markdown",
   "id": "92f64a03",
   "metadata": {},
   "source": [
    "# Model saving and loading"
   ]
  },
  {
   "cell_type": "code",
   "execution_count": null,
   "id": "25d56949",
   "metadata": {},
   "outputs": [],
   "source": [
    "# saving complete model\n",
    "torch.save(model, 'Updated_GNN_model_weights.pth')"
   ]
  },
  {
   "cell_type": "code",
   "execution_count": null,
   "id": "c9d7cbc9",
   "metadata": {},
   "outputs": [],
   "source": [
    "# load model\n",
    "model = torch.load('GNN_model_weights.pth')"
   ]
  },
  {
   "cell_type": "markdown",
   "id": "6c7a895b",
   "metadata": {},
   "source": [
    "# Prediction on loaded model"
   ]
  },
  {
   "cell_type": "code",
   "execution_count": null,
   "id": "da2b2675",
   "metadata": {},
   "outputs": [],
   "source": [
    "from torch_geometric.data import Data\n",
    "print(dataset[0])\n",
    "import numpy as np\n",
    "x=np.ones(shape=(1,1433))\n",
    "xne=dataset.data.x[0:2708]\n",
    "# print(dataset.data.edge_index.shape)\n",
    "# xne=xne.unsqueeze(0)\n",
    "# print(dataset.data.edge_index.shape)\n",
    "e=dataset.data.edge_index\n",
    "# e=e.unsqueeze(0)\n",
    "print(xne.shape)\n",
    "print(e.shape)\n",
    "\n",
    "data = Data(x=xne, edge_index=e)\n",
    "print(data)\n",
    "\n",
    "y_pred=model(data)\n",
    "y_pred[0]\n"
   ]
  },
  {
   "cell_type": "code",
   "execution_count": null,
   "id": "21032eda",
   "metadata": {},
   "outputs": [],
   "source": [
    "print(type(dataset[0]))"
   ]
  },
  {
   "cell_type": "code",
   "execution_count": null,
   "id": "1fc3d653",
   "metadata": {},
   "outputs": [],
   "source": [
    "print('prediction_by_model:',[np.argmax(i) for i in y_pred.tolist()])\n",
    "print('actual y values____:',dataset[0].y.tolist())"
   ]
  },
  {
   "cell_type": "code",
   "execution_count": null,
   "id": "f90ce509",
   "metadata": {},
   "outputs": [],
   "source": []
  },
  {
   "cell_type": "markdown",
   "id": "5119be28",
   "metadata": {},
   "source": [
    "# Code End here"
   ]
  },
  {
   "cell_type": "code",
   "execution_count": null,
   "id": "c8e3ffea",
   "metadata": {},
   "outputs": [],
   "source": [
    "dataset[0]"
   ]
  },
  {
   "cell_type": "code",
   "execution_count": null,
   "id": "eda8724b",
   "metadata": {},
   "outputs": [],
   "source": [
    "dataset.data.x[1]"
   ]
  },
  {
   "cell_type": "code",
   "execution_count": null,
   "id": "9a31cc98",
   "metadata": {},
   "outputs": [],
   "source": [
    "dataset.data.edge_index"
   ]
  },
  {
   "cell_type": "code",
   "execution_count": null,
   "id": "a9dc405e",
   "metadata": {},
   "outputs": [],
   "source": [
    "dataset.data.y"
   ]
  },
  {
   "cell_type": "code",
   "execution_count": null,
   "id": "a4514572",
   "metadata": {},
   "outputs": [],
   "source": [
    "model()"
   ]
  },
  {
   "cell_type": "code",
   "execution_count": null,
   "id": "a6ba076a",
   "metadata": {},
   "outputs": [],
   "source": [
    "model(dataset.data.x[1],dataset.data.edge_index,dataset.data.)"
   ]
  },
  {
   "cell_type": "code",
   "execution_count": null,
   "id": "bde62a51",
   "metadata": {},
   "outputs": [],
   "source": [
    "    dataset = Planetoid(root='/tmp/Cora', name='Cora')\n",
    "\n",
    "    print(dataset)\n",
    "    print(\"number of graph:\" ,len(dataset))\n",
    "    print(\"number of classes:\", dataset.num_classes)\n",
    "    print(\"number of node features:\", dataset.num_node_features)\n",
    "    # print(\"number of edges:\",dataset.num_edge_features_features)\n",
    "\n",
    "    print(\"edge_index:\\t\\t\", dataset.data.edge_index.shape)\n",
    "    print(dataset.data.edge_index)\n",
    "    print(\"\\n\")\n",
    "    print(\"train_mask:\\t\\t\", dataset.data.train_mask.shape)\n",
    "    print(dataset.data.train_mask)\n",
    "    print(\"\\n\")\n",
    "    print(\"x:\\t\\t\", dataset.data.x.shape)\n",
    "    print(dataset.data.x)\n",
    "    print(\"\\n\")\n",
    "    print(\"y:\\t\\t\", dataset.data.y.shape)\n",
    "    print(dataset.data.y)\n",
    "\n",
    "    # print('x values',dataset[0].x)\n",
    "    sg_x=dataset[0].x.tolist()[1]\n",
    "    # print(\"signal record\",dataset[0].x.tolist()[1])\n",
    "    sg_ed = dataset[0].edge_index.tolist()[1]\n",
    "    # print(sg_ed )\n",
    "    # print('y values',dataset[0].y)\n",
    "    # print('complete values',dataset[0])\n",
    "\n",
    "    # plot_dataset(dataset)\n",
    "\n",
    "    device = torch.device('cuda' if torch.cuda.is_available() else 'cpu')\n",
    "    model = Net(dataset).to(device)\n",
    "    data = dataset[0].to(device)\n",
    "    print(\"data check\",data)\n",
    "    optimizer = torch.optim.Adam(model.parameters(), lr=0.01, weight_decay=5e-4)\n",
    "\n",
    "    # train(data, plot=True)\n",
    "\n",
    "    # saving and load with other approch\n",
    "    # torch.save(model.state_dict(), 'dic_state_save_model.pt')\n",
    "    # the_model = model()\n",
    "\n",
    "    # the_model.load_state_dict(torch.load(PATH))\n",
    "    # ___________\n",
    "    # saving complete model\n",
    "    torch.save(model, 'GNN_model_weights.pth')\n",
    "    # load model\n",
    "    model = torch.load('GNN_model_weights.pth')\n",
    "    # print(model.eval())\n",
    "\n",
    "    # prediction of all datset\n",
    "    print(\"test=\",dataset[0])\n",
    "    print(\"complete dataset: =\", dataset)\n",
    "    \n",
    "    y_pred=model(dataset[0])\n",
    "    # print(y_pred)\n",
    "    print('prediction_by_model:',[np.argmax(i) for i in y_pred.tolist()])\n",
    "    print('actual y values____:',dataset[0].y.tolist())\n",
    "    print('data_x',data.x)\n",
    "    print('data_edges',data.edge_index)\n",
    "    # test_data(x=data.x,edge_index=data.edge_index)\n",
    "    print('zero......',data.x[0])\n",
    "    print('last....',data.x[2707])\n",
    "    # res=model(data.x[])\n",
    "    # print(res)\n",
    "\n",
    "\n",
    "\n",
    "    di={\n",
    "        'predicted':[np.argmax(i) for i in y_pred.tolist()],\n",
    "        'actual':dataset[0].y,\n",
    "    }\n",
    "\n",
    "    #\n",
    "    # print(model(di))"
   ]
  },
  {
   "cell_type": "code",
   "execution_count": null,
   "id": "99c22b5d",
   "metadata": {},
   "outputs": [],
   "source": [
    "dataset = Planetoid(root='/tmp/Cora', name='Cora')\n",
    "\n",
    "print(dataset)\n",
    "print(\"number of graph:\" ,len(dataset))\n",
    "print(\"number of classes:\", dataset.num_classes)\n",
    "print(\"number of node features:\", dataset.num_node_features)\n",
    "# print(\"number of edges:\",dataset.num_edge_features_features)\n",
    "\n",
    "#     print(\"edge_index:\\t\\t\", dataset.data.edge_index.shape)\n",
    "#     print(dataset.data.edge_index)\n",
    "#     print(\"\\n\")\n",
    "#     print(\"train_mask:\\t\\t\", dataset.data.train_mask.shape)\n",
    "#     print(dataset.data.train_mask)\n",
    "#     print(\"\\n\")\n",
    "#     print(\"x:\\t\\t\", dataset.data.x.shape)\n",
    "#     print(dataset.data.x)\n",
    "#     print(\"\\n\")\n",
    "#     print(\"y:\\t\\t\", dataset.data.y.shape)\n",
    "#     print(dataset.data.y)\n",
    "\n",
    "    # print('x values',dataset[0].x)\n",
    "sg_x=dataset[0].x.tolist()[1]\n",
    "    # print(\"signal record\",dataset[0].x.tolist()[1])\n",
    "sg_ed = dataset[0].edge_index.tolist()[1]\n",
    "    # print(sg_ed )\n",
    "    # print('y values',dataset[0].y)\n",
    "    # print('complete values',dataset[0])\n",
    "\n",
    "    # plot_dataset(dataset)\n",
    "\n",
    "device = torch.device('cuda' if torch.cuda.is_available() else 'cpu')\n",
    "model = Net(dataset).to(device)\n",
    "data = dataset[0].to(device)\n",
    "print(\"data check\",data)\n",
    "optimizer = torch.optim.Adam(model.parameters(), lr=0.01, weight_decay=5e-4)\n",
    "\n",
    "    # train(data, plot=True)\n",
    "\n",
    "    # saving and load with other approch\n",
    "    # torch.save(model.state_dict(), 'dic_state_save_model.pt')\n",
    "    # the_model = model()\n",
    "\n",
    "    # the_model.load_state_dict(torch.load(PATH))\n",
    "    # ___________\n",
    "    # saving complete model\n",
    "torch.save(model, 'GNN_model_weights.pth')\n",
    "    # load model\n",
    "model = torch.load('GNN_model_weights.pth')\n",
    "    # print(model.eval())\n",
    "\n",
    "    # prediction of all datset\n",
    "print(\"test=\",dataset[0])\n",
    "print(\"complete dataset: =\", dataset)\n",
    "    \n",
    "y_pred=model(dataset[0])\n",
    "    # print(y_pred)\n",
    "# print('prediction_by_model:',[np.argmax(i) for i in y_pred.tolist()])\n",
    "# print('actual y values____:',dataset[0].y.tolist())\n",
    "# print('data_x',data.x)\n",
    "#     print('data_edges',data.edge_index)\n",
    "#     # test_data(x=data.x,edge_index=data.edge_index)\n",
    "#     print('zero......',data.x[0])\n",
    "#     print('last....',data.x[2707])\n",
    "#     # res=model(data.x[])\n",
    "    # print(res)\n",
    "\n",
    "\n",
    "\n",
    "#     di={\n",
    "#         'predicted':[np.argmax(i) for i in y_pred.tolist()],\n",
    "#         'actual':dataset[0].y,\n",
    "#     }\n",
    "\n",
    "    #\n",
    "    # print(model(di))"
   ]
  },
  {
   "cell_type": "code",
   "execution_count": null,
   "id": "38486ba3",
   "metadata": {},
   "outputs": [],
   "source": [
    "# data.x.reshape(1,1433)"
   ]
  },
  {
   "cell_type": "code",
   "execution_count": null,
   "id": "bddfc6f7",
   "metadata": {},
   "outputs": [],
   "source": [
    "# y_pred=model(data.x)\n",
    "# y_pred"
   ]
  },
  {
   "cell_type": "code",
   "execution_count": null,
   "id": "e24e3a35",
   "metadata": {},
   "outputs": [],
   "source": [
    "print('zero......:',data.x[0])\n",
    "# print('last......',data.x[2700])\n",
    "print('y.........:',data.y[0])\n",
    "print('mask_train zero:',data.train_mask[0])\n",
    "print('val_mask zero:',data.val_mask[0])\n",
    "print('test_mask zero:',data.test_mask[0])\n",
    "print('total_dataset',dataset[0])"
   ]
  },
  {
   "cell_type": "code",
   "execution_count": null,
   "id": "ae7e0c7b",
   "metadata": {},
   "outputs": [],
   "source": [
    "# data.x[0].tolist()"
   ]
  },
  {
   "cell_type": "code",
   "execution_count": null,
   "id": "ef422e7e",
   "metadata": {},
   "outputs": [],
   "source": [
    "data.edge_index"
   ]
  },
  {
   "cell_type": "code",
   "execution_count": null,
   "id": "552645c8",
   "metadata": {},
   "outputs": [],
   "source": [
    "# y_pred=model(data.x[0],data.edge_index,data.y[0])\n",
    "# y_pred=model(data.x[0],data.edge_index,data.val_mask[0],data.test_mask[0])"
   ]
  },
  {
   "cell_type": "code",
   "execution_count": null,
   "id": "df2de928",
   "metadata": {},
   "outputs": [],
   "source": [
    "dataset = Planetoid(root='/tmp/Cora', name='Cora')\n",
    "\n",
    "    print(dataset)\n",
    "    print(\"number of graph:\" ,len(dataset))\n",
    "    print(\"number of classes:\", dataset.num_classes)\n",
    "    print(\"number of node features:\", dataset.num_node_features)\n",
    "    # print(\"number of edges:\",dataset.num_edge_features_features)\n",
    "\n",
    "    print(\"edge_index:\\t\\t\", dataset.data.edge_index.shape)\n",
    "    print(dataset.data.edge_index)\n",
    "    print(\"\\n\")\n",
    "    print(\"train_mask:\\t\\t\", dataset.data.train_mask.shape)\n",
    "    print(dataset.data.train_mask)\n",
    "    print(\"\\n\")\n",
    "    print(\"x:\\t\\t\", dataset.data.x.shape)\n",
    "    print(dataset.data.x)\n",
    "    print(\"\\n\")\n",
    "    print(\"y:\\t\\t\", dataset.data.y.shape)\n",
    "    print(dataset.data.y)\n",
    "\n",
    "    # print('x values',dataset[0].x)\n",
    "    sg_x=dataset[0].x.tolist()[1]\n",
    "    # print(\"signal record\",dataset[0].x.tolist()[1])\n",
    "    sg_ed = dataset[0].edge_index.tolist()[1]\n",
    "    # print(sg_ed )\n",
    "    # print('y values',dataset[0].y)\n",
    "    # print('complete values',dataset[0])\n",
    "\n",
    "    # plot_dataset(dataset)\n",
    "\n",
    "    device = torch.device('cuda' if torch.cuda.is_available() else 'cpu')\n",
    "    model = Net(dataset).to(device)\n",
    "    data = dataset[0].to(device)\n",
    "    print(\"data check\",data)\n",
    "    optimizer = torch.optim.Adam(model.parameters(), lr=0.01, weight_decay=5e-4)\n",
    "\n",
    "    # train(data, plot=True)\n",
    "\n",
    "    # saving and load with other approch\n",
    "    # torch.save(model.state_dict(), 'dic_state_save_model.pt')\n",
    "    # the_model = model()\n",
    "\n",
    "    # the_model.load_state_dict(torch.load(PATH))\n",
    "    # ___________\n",
    "    # saving complete model\n",
    "    torch.save(model, 'GNN_model_weights.pth')\n",
    "    # load model\n",
    "    model = torch.load('GNN_model_weights.pth')\n",
    "    # print(model.eval())\n",
    "\n",
    "    # prediction of all datset\n",
    "    print(\"test=\",dataset[0])\n",
    "    print(\"complete dataset: =\", dataset)\n",
    "    \n",
    "    y_pred=model(dataset[0])\n",
    "    # print(y_pred)\n",
    "    print('prediction_by_model:',[np.argmax(i) for i in y_pred.tolist()])\n",
    "    print('actual y values____:',dataset[0].y.tolist())\n",
    "    print('data_x',data.x)\n",
    "    print('data_edges',data.edge_index)\n",
    "    # test_data(x=data.x,edge_index=data.edge_index)\n",
    "    print('zero......',data.x[0])\n",
    "    print('last....',data.x[2707])\n",
    "    # res=model(data.x[])\n",
    "    # print(res)\n",
    "\n",
    "\n",
    "\n",
    "    di={\n",
    "        'predicted':[np.argmax(i) for i in y_pred.tolist()],\n",
    "        'actual':dataset[0].y,\n",
    "    }\n",
    "\n",
    "    #\n",
    "    # print(model(di))"
   ]
  },
  {
   "cell_type": "code",
   "execution_count": 32,
   "id": "89e86ee0",
   "metadata": {},
   "outputs": [
    {
     "name": "stderr",
     "output_type": "stream",
     "text": [
      "usage: ipykernel_launcher.py [-h] [--use_gdc]\n",
      "ipykernel_launcher.py: error: unrecognized arguments: -f C:\\Users\\tubaid\\AppData\\Roaming\\jupyter\\runtime\\kernel-515b124d-d434-43f5-86e2-f2e7c63e090e.json\n"
     ]
    },
    {
     "ename": "SystemExit",
     "evalue": "2",
     "output_type": "error",
     "traceback": [
      "An exception has occurred, use %tb to see the full traceback.\n",
      "\u001b[1;31mSystemExit\u001b[0m\u001b[1;31m:\u001b[0m 2\n"
     ]
    },
    {
     "name": "stderr",
     "output_type": "stream",
     "text": [
      "C:\\Users\\tubaid\\Anaconda3\\envs\\graph_neural_network\\lib\\site-packages\\IPython\\core\\interactiveshell.py:3465: UserWarning: To exit: use 'exit', 'quit', or Ctrl-D.\n",
      "  warn(\"To exit: use 'exit', 'quit', or Ctrl-D.\", stacklevel=1)\n"
     ]
    }
   ],
   "source": [
    "import argparse\n",
    "import os.path as osp\n",
    "\n",
    "import torch\n",
    "import torch.nn.functional as F\n",
    "\n",
    "import torch_geometric.transforms as T\n",
    "from torch_geometric.datasets import Planetoid\n",
    "from torch_geometric.nn import ChebConv, GCNConv  # noqa\n",
    "\n",
    "parser = argparse.ArgumentParser()\n",
    "parser.add_argument('--use_gdc', action='store_true',\n",
    "                    help='Use GDC preprocessing.')\n",
    "args = parser.parse_args()\n",
    "\n",
    "dataset = 'Cora'\n",
    "path = osp.join(osp.dirname(osp.realpath(__file__)), '..', 'data', dataset)\n",
    "dataset = Planetoid(path, dataset, transform=T.NormalizeFeatures())\n",
    "data = dataset[0]\n",
    "\n",
    "if args.use_gdc:\n",
    "    gdc = T.GDC(self_loop_weight=1, normalization_in='sym',\n",
    "                normalization_out='col',\n",
    "                diffusion_kwargs=dict(method='ppr', alpha=0.05),\n",
    "                sparsification_kwargs=dict(method='topk', k=128,\n",
    "                                           dim=0), exact=True)\n",
    "    data = gdc(data)\n",
    "\n",
    "\n",
    "class Net(torch.nn.Module):\n",
    "    def __init__(self):\n",
    "        super().__init__()\n",
    "        self.conv1 = GCNConv(dataset.num_features, 16, cached=True,\n",
    "                             normalize=not args.use_gdc)\n",
    "        self.conv2 = GCNConv(16, dataset.num_classes, cached=True,\n",
    "                             normalize=not args.use_gdc)\n",
    "        # self.conv1 = ChebConv(data.num_features, 16, K=2)\n",
    "        # self.conv2 = ChebConv(16, data.num_features, K=2)\n",
    "\n",
    "    def forward(self):\n",
    "        x, edge_index, edge_weight = data.x, data.edge_index, data.edge_attr\n",
    "        x = F.relu(self.conv1(x, edge_index, edge_weight))\n",
    "        x = F.dropout(x, training=self.training)\n",
    "        x = self.conv2(x, edge_index, edge_weight)\n",
    "        return F.log_softmax(x, dim=1)\n",
    "\n",
    "\n",
    "device = torch.device('cuda' if torch.cuda.is_available() else 'cpu')\n",
    "model, data = Net().to(device), data.to(device)\n",
    "optimizer = torch.optim.Adam([\n",
    "    dict(params=model.conv1.parameters(), weight_decay=5e-4),\n",
    "    dict(params=model.conv2.parameters(), weight_decay=0)\n",
    "], lr=0.01)  # Only perform weight-decay on first convolution.\n",
    "\n",
    "\n",
    "def train():\n",
    "    model.train()\n",
    "    optimizer.zero_grad()\n",
    "    F.nll_loss(model()[data.train_mask], data.y[data.train_mask]).backward()\n",
    "    optimizer.step()\n",
    "\n",
    "\n",
    "@torch.no_grad()\n",
    "def test():\n",
    "    model.eval()\n",
    "    logits, accs = model(), []\n",
    "    for _, mask in data('train_mask', 'val_mask', 'test_mask'):\n",
    "        pred = logits[mask].max(1)[1]\n",
    "        acc = pred.eq(data.y[mask]).sum().item() / mask.sum().item()\n",
    "        accs.append(acc)\n",
    "    return accs\n",
    "\n",
    "\n",
    "best_val_acc = test_acc = 0\n",
    "for epoch in range(1, 201):\n",
    "    train()\n",
    "    train_acc, val_acc, tmp_test_acc = test()\n",
    "    if val_acc > best_val_acc:\n",
    "        best_val_acc = val_acc\n",
    "        test_acc = tmp_test_acc\n",
    "    print(f'Epoch: {epoch:03d}, Train: {train_acc:.4f}, '\n",
    "          f'Val: {best_val_acc:.4f}, Test: {test_acc:.4f}')"
   ]
  },
  {
   "cell_type": "code",
   "execution_count": null,
   "id": "f5096eeb",
   "metadata": {},
   "outputs": [],
   "source": []
  }
 ],
 "metadata": {
  "kernelspec": {
   "display_name": "Python 3 (ipykernel)",
   "language": "python",
   "name": "python3"
  },
  "language_info": {
   "codemirror_mode": {
    "name": "ipython",
    "version": 3
   },
   "file_extension": ".py",
   "mimetype": "text/x-python",
   "name": "python",
   "nbconvert_exporter": "python",
   "pygments_lexer": "ipython3",
   "version": "3.7.11"
  }
 },
 "nbformat": 4,
 "nbformat_minor": 5
}
