{
 "cells": [
  {
   "cell_type": "code",
   "execution_count": 21,
   "id": "2dfbb182",
   "metadata": {},
   "outputs": [],
   "source": [
    "import argparse\n",
    "import os.path as osp\n",
    "\n",
    "import torch\n",
    "import torch.nn.functional as F\n",
    "from torch.nn import Linear\n",
    "\n",
    "import torch_geometric.transforms as T\n",
    "from torch_geometric.datasets import MovieLens\n",
    "from torch_geometric.nn import SAGEConv, to_hetero"
   ]
  },
  {
   "cell_type": "code",
   "execution_count": 22,
   "id": "0174b02c",
   "metadata": {},
   "outputs": [],
   "source": [
    "from torch_geometric.data import HeteroData\n",
    "import torch\n",
    "import pandas as pd\n",
    "\n",
    "device = torch.device('cuda' if torch.cuda.is_available() else 'cpu')\n",
    "df=pd.read_csv(r'C:\\Users\\tubaid\\Desktop\\updated data\\final\\Final_encoded_user_skill.csv')\n",
    "node=len(df.UserId.unique())\n"
   ]
  },
  {
   "cell_type": "code",
   "execution_count": 89,
   "id": "5fe78cd2",
   "metadata": {},
   "outputs": [],
   "source": [
    "usr=df.UserId.values"
   ]
  },
  {
   "cell_type": "code",
   "execution_count": 90,
   "id": "052b3a2b",
   "metadata": {},
   "outputs": [
    {
     "data": {
      "text/plain": [
       "array([   740,    749,    777, ..., 439666, 439666, 439666], dtype=int64)"
      ]
     },
     "execution_count": 90,
     "metadata": {},
     "output_type": "execute_result"
    }
   ],
   "source": [
    "usr"
   ]
  },
  {
   "cell_type": "code",
   "execution_count": 91,
   "id": "970829d2",
   "metadata": {},
   "outputs": [],
   "source": [
    "usr=torch.from_numpy(usr)\n"
   ]
  },
  {
   "cell_type": "code",
   "execution_count": null,
   "id": "9b946d6e",
   "metadata": {},
   "outputs": [],
   "source": []
  },
  {
   "cell_type": "code",
   "execution_count": 23,
   "id": "cd457896",
   "metadata": {},
   "outputs": [
    {
     "name": "stdout",
     "output_type": "stream",
     "text": [
      "2386\n"
     ]
    }
   ],
   "source": [
    "print(node)\n",
    "data = HeteroData()\n",
    "data['user'].x=torch.eye(node,device=device)"
   ]
  },
  {
   "cell_type": "code",
   "execution_count": 24,
   "id": "81cadf98",
   "metadata": {},
   "outputs": [],
   "source": [
    "# skill=pd.read_excel(r\"C:\\Users\\tubaid\\Desktop\\updated data\\final\\final_skills.xlsx\")\n",
    "skill=pd.read_csv(r\"C:\\Users\\tubaid\\Desktop\\updated data\\final\\final_skill_features.csv\")\n",
    "skill=skill.drop(['SkillId'],axis=1)"
   ]
  },
  {
   "cell_type": "code",
   "execution_count": 25,
   "id": "faf67a0e",
   "metadata": {},
   "outputs": [
    {
     "data": {
      "text/html": [
       "<div>\n",
       "<style scoped>\n",
       "    .dataframe tbody tr th:only-of-type {\n",
       "        vertical-align: middle;\n",
       "    }\n",
       "\n",
       "    .dataframe tbody tr th {\n",
       "        vertical-align: top;\n",
       "    }\n",
       "\n",
       "    .dataframe thead th {\n",
       "        text-align: right;\n",
       "    }\n",
       "</style>\n",
       "<table border=\"1\" class=\"dataframe\">\n",
       "  <thead>\n",
       "    <tr style=\"text-align: right;\">\n",
       "      <th></th>\n",
       "      <th>AverageCurrentProficiency</th>\n",
       "      <th>AverageCurrentAccuracy</th>\n",
       "      <th>AverageCoveragePercentage</th>\n",
       "      <th>AveragePreviousProficiency</th>\n",
       "      <th>DifficultyLevel</th>\n",
       "      <th>SumTotalQuestionsAttempted</th>\n",
       "      <th>SumCorrectQuestionsAttempted</th>\n",
       "      <th>SumStuckSkill</th>\n",
       "      <th>SumTimeSpent</th>\n",
       "      <th>AvgTimeSpent</th>\n",
       "    </tr>\n",
       "  </thead>\n",
       "  <tbody>\n",
       "    <tr>\n",
       "      <th>0</th>\n",
       "      <td>2</td>\n",
       "      <td>55.458543</td>\n",
       "      <td>21.911449</td>\n",
       "      <td>2</td>\n",
       "      <td>2</td>\n",
       "      <td>5108</td>\n",
       "      <td>3213</td>\n",
       "      <td>23</td>\n",
       "      <td>619.789996</td>\n",
       "      <td>5.847075</td>\n",
       "    </tr>\n",
       "    <tr>\n",
       "      <th>1</th>\n",
       "      <td>2</td>\n",
       "      <td>56.269553</td>\n",
       "      <td>24.112595</td>\n",
       "      <td>1</td>\n",
       "      <td>2</td>\n",
       "      <td>1538</td>\n",
       "      <td>1004</td>\n",
       "      <td>11</td>\n",
       "      <td>221.299994</td>\n",
       "      <td>6.322857</td>\n",
       "    </tr>\n",
       "  </tbody>\n",
       "</table>\n",
       "</div>"
      ],
      "text/plain": [
       "   AverageCurrentProficiency  AverageCurrentAccuracy  \\\n",
       "0                          2               55.458543   \n",
       "1                          2               56.269553   \n",
       "\n",
       "   AverageCoveragePercentage  AveragePreviousProficiency  DifficultyLevel  \\\n",
       "0                  21.911449                           2                2   \n",
       "1                  24.112595                           1                2   \n",
       "\n",
       "   SumTotalQuestionsAttempted  SumCorrectQuestionsAttempted  SumStuckSkill  \\\n",
       "0                        5108                          3213             23   \n",
       "1                        1538                          1004             11   \n",
       "\n",
       "   SumTimeSpent  AvgTimeSpent  \n",
       "0    619.789996      5.847075  \n",
       "1    221.299994      6.322857  "
      ]
     },
     "execution_count": 25,
     "metadata": {},
     "output_type": "execute_result"
    }
   ],
   "source": [
    "skill.head(2)"
   ]
  },
  {
   "cell_type": "code",
   "execution_count": 26,
   "id": "d109f5e6",
   "metadata": {},
   "outputs": [],
   "source": [
    "import numpy"
   ]
  },
  {
   "cell_type": "code",
   "execution_count": 27,
   "id": "30595ad5",
   "metadata": {},
   "outputs": [],
   "source": [
    "sk=numpy.array(skill.values.tolist())\n",
    "# sk2=skill.numpy.tolist()"
   ]
  },
  {
   "cell_type": "code",
   "execution_count": 28,
   "id": "ce9c222f",
   "metadata": {},
   "outputs": [],
   "source": [
    "# Tensor.to(dtype=torch.long) and Tensor.long()"
   ]
  },
  {
   "cell_type": "code",
   "execution_count": 29,
   "id": "8196d319",
   "metadata": {},
   "outputs": [],
   "source": [
    "sk=torch.Tensor(sk)"
   ]
  },
  {
   "cell_type": "code",
   "execution_count": 30,
   "id": "2c6c8aa6",
   "metadata": {},
   "outputs": [
    {
     "data": {
      "text/plain": [
       "torch.Tensor"
      ]
     },
     "execution_count": 30,
     "metadata": {},
     "output_type": "execute_result"
    }
   ],
   "source": [
    "type(sk)"
   ]
  },
  {
   "cell_type": "code",
   "execution_count": 87,
   "id": "8b678e21",
   "metadata": {},
   "outputs": [
    {
     "data": {
      "text/plain": [
       "10"
      ]
     },
     "execution_count": 87,
     "metadata": {},
     "output_type": "execute_result"
    }
   ],
   "source": [
    "len(sk[0])"
   ]
  },
  {
   "cell_type": "code",
   "execution_count": null,
   "id": "ed088321",
   "metadata": {},
   "outputs": [],
   "source": []
  },
  {
   "cell_type": "code",
   "execution_count": 32,
   "id": "7d71b2b7",
   "metadata": {},
   "outputs": [],
   "source": [
    "data['skill'].x=sk"
   ]
  },
  {
   "cell_type": "code",
   "execution_count": 33,
   "id": "3ba695e3",
   "metadata": {},
   "outputs": [
    {
     "data": {
      "text/plain": [
       "tensor([[2.0000e+00, 5.5459e+01, 2.1911e+01,  ..., 2.3000e+01, 6.1979e+02,\n",
       "         5.8471e+00],\n",
       "        [2.0000e+00, 5.6270e+01, 2.4113e+01,  ..., 1.1000e+01, 2.2130e+02,\n",
       "         6.3229e+00],\n",
       "        [3.0000e+00, 7.7836e+01, 1.8145e+01,  ..., 5.7000e+01, 5.4521e+03,\n",
       "         6.1398e+00],\n",
       "        ...,\n",
       "        [2.0000e+00, 6.0504e+01, 8.5926e+00,  ..., 7.7000e+01, 3.9128e+03,\n",
       "         8.7339e+00],\n",
       "        [1.0000e+00, 5.8680e+01, 5.6356e+00,  ..., 2.2000e+01, 8.4893e+02,\n",
       "         5.1764e+00],\n",
       "        [1.0000e+00, 3.2713e+01, 8.2093e+00,  ..., 2.1000e+01, 3.5763e+02,\n",
       "         7.1526e+00]])"
      ]
     },
     "execution_count": 33,
     "metadata": {},
     "output_type": "execute_result"
    }
   ],
   "source": [
    "data['skill'].x"
   ]
  },
  {
   "cell_type": "code",
   "execution_count": 34,
   "id": "c0ad2386",
   "metadata": {},
   "outputs": [
    {
     "data": {
      "text/plain": [
       "HeteroData(\n",
       "  \u001b[1muser\u001b[0m={ x=[2386, 2386] },\n",
       "  \u001b[1mskill\u001b[0m={ x=[329, 10] }\n",
       ")"
      ]
     },
     "execution_count": 34,
     "metadata": {},
     "output_type": "execute_result"
    }
   ],
   "source": [
    "data"
   ]
  },
  {
   "cell_type": "code",
   "execution_count": 47,
   "id": "0540618b",
   "metadata": {},
   "outputs": [],
   "source": [
    "u_s=pd.read_csv(r\"C:\\Users\\tubaid\\Desktop\\updated data\\final\\final_encoded_user_skill.csv\")"
   ]
  },
  {
   "cell_type": "code",
   "execution_count": 48,
   "id": "119956ed",
   "metadata": {},
   "outputs": [],
   "source": [
    "user_skill=u_s[['UserId','SkillId']].T"
   ]
  },
  {
   "cell_type": "code",
   "execution_count": 49,
   "id": "706e19c5",
   "metadata": {},
   "outputs": [
    {
     "data": {
      "text/html": [
       "<div>\n",
       "<style scoped>\n",
       "    .dataframe tbody tr th:only-of-type {\n",
       "        vertical-align: middle;\n",
       "    }\n",
       "\n",
       "    .dataframe tbody tr th {\n",
       "        vertical-align: top;\n",
       "    }\n",
       "\n",
       "    .dataframe thead th {\n",
       "        text-align: right;\n",
       "    }\n",
       "</style>\n",
       "<table border=\"1\" class=\"dataframe\">\n",
       "  <thead>\n",
       "    <tr style=\"text-align: right;\">\n",
       "      <th></th>\n",
       "      <th>0</th>\n",
       "      <th>1</th>\n",
       "      <th>2</th>\n",
       "      <th>3</th>\n",
       "      <th>4</th>\n",
       "      <th>5</th>\n",
       "      <th>6</th>\n",
       "      <th>7</th>\n",
       "      <th>8</th>\n",
       "      <th>9</th>\n",
       "      <th>...</th>\n",
       "      <th>31046</th>\n",
       "      <th>31047</th>\n",
       "      <th>31048</th>\n",
       "      <th>31049</th>\n",
       "      <th>31050</th>\n",
       "      <th>31051</th>\n",
       "      <th>31052</th>\n",
       "      <th>31053</th>\n",
       "      <th>31054</th>\n",
       "      <th>31055</th>\n",
       "    </tr>\n",
       "  </thead>\n",
       "  <tbody>\n",
       "    <tr>\n",
       "      <th>UserId</th>\n",
       "      <td>740</td>\n",
       "      <td>749</td>\n",
       "      <td>777</td>\n",
       "      <td>780</td>\n",
       "      <td>806</td>\n",
       "      <td>836</td>\n",
       "      <td>1753</td>\n",
       "      <td>2462</td>\n",
       "      <td>3524</td>\n",
       "      <td>4251</td>\n",
       "      <td>...</td>\n",
       "      <td>394622</td>\n",
       "      <td>260497</td>\n",
       "      <td>437986</td>\n",
       "      <td>437986</td>\n",
       "      <td>437992</td>\n",
       "      <td>437992</td>\n",
       "      <td>437992</td>\n",
       "      <td>439666</td>\n",
       "      <td>439666</td>\n",
       "      <td>439666</td>\n",
       "    </tr>\n",
       "    <tr>\n",
       "      <th>SkillId</th>\n",
       "      <td>431</td>\n",
       "      <td>431</td>\n",
       "      <td>431</td>\n",
       "      <td>431</td>\n",
       "      <td>431</td>\n",
       "      <td>431</td>\n",
       "      <td>431</td>\n",
       "      <td>431</td>\n",
       "      <td>431</td>\n",
       "      <td>431</td>\n",
       "      <td>...</td>\n",
       "      <td>2036</td>\n",
       "      <td>2116</td>\n",
       "      <td>2118</td>\n",
       "      <td>2124</td>\n",
       "      <td>2116</td>\n",
       "      <td>2130</td>\n",
       "      <td>2135</td>\n",
       "      <td>2036</td>\n",
       "      <td>2117</td>\n",
       "      <td>2038</td>\n",
       "    </tr>\n",
       "  </tbody>\n",
       "</table>\n",
       "<p>2 rows × 31056 columns</p>\n",
       "</div>"
      ],
      "text/plain": [
       "         0      1      2      3      4      5      6      7      8      9      \\\n",
       "UserId     740    749    777    780    806    836   1753   2462   3524   4251   \n",
       "SkillId    431    431    431    431    431    431    431    431    431    431   \n",
       "\n",
       "         ...   31046   31047   31048   31049   31050   31051   31052   31053  \\\n",
       "UserId   ...  394622  260497  437986  437986  437992  437992  437992  439666   \n",
       "SkillId  ...    2036    2116    2118    2124    2116    2130    2135    2036   \n",
       "\n",
       "          31054   31055  \n",
       "UserId   439666  439666  \n",
       "SkillId    2117    2038  \n",
       "\n",
       "[2 rows x 31056 columns]"
      ]
     },
     "execution_count": 49,
     "metadata": {},
     "output_type": "execute_result"
    }
   ],
   "source": [
    "user_skill"
   ]
  },
  {
   "cell_type": "code",
   "execution_count": 50,
   "id": "26f11068",
   "metadata": {},
   "outputs": [],
   "source": [
    "us_sk=user_skill.values.tolist()"
   ]
  },
  {
   "cell_type": "code",
   "execution_count": 51,
   "id": "43d981d8",
   "metadata": {},
   "outputs": [],
   "source": [
    "us_sk=numpy.array(us_sk)"
   ]
  },
  {
   "cell_type": "code",
   "execution_count": 52,
   "id": "887fc7bf",
   "metadata": {},
   "outputs": [],
   "source": [
    "# us_sk=torch.from_numpy(us_sk)"
   ]
  },
  {
   "cell_type": "code",
   "execution_count": 53,
   "id": "7321fbdb",
   "metadata": {},
   "outputs": [
    {
     "data": {
      "text/plain": [
       "array([[   740,    749,    777, ..., 439666, 439666, 439666],\n",
       "       [   431,    431,    431, ...,   2036,   2117,   2038]])"
      ]
     },
     "execution_count": 53,
     "metadata": {},
     "output_type": "execute_result"
    }
   ],
   "source": [
    "us_sk"
   ]
  },
  {
   "cell_type": "code",
   "execution_count": 54,
   "id": "c20cb22b",
   "metadata": {},
   "outputs": [],
   "source": [
    "# us_sk=numpy.array(us_sk)"
   ]
  },
  {
   "cell_type": "code",
   "execution_count": 55,
   "id": "3120a6d4",
   "metadata": {},
   "outputs": [
    {
     "data": {
      "text/plain": [
       "array([[   740,    749,    777, ..., 439666, 439666, 439666],\n",
       "       [   431,    431,    431, ...,   2036,   2117,   2038]])"
      ]
     },
     "execution_count": 55,
     "metadata": {},
     "output_type": "execute_result"
    }
   ],
   "source": [
    "us_sk"
   ]
  },
  {
   "cell_type": "code",
   "execution_count": 56,
   "id": "6a487220",
   "metadata": {},
   "outputs": [],
   "source": [
    "us_sk=torch.from_numpy(us_sk)"
   ]
  },
  {
   "cell_type": "code",
   "execution_count": 57,
   "id": "dc8a80fb",
   "metadata": {},
   "outputs": [
    {
     "data": {
      "text/plain": [
       "tensor([[   740,    749,    777,  ..., 439666, 439666, 439666],\n",
       "        [   431,    431,    431,  ...,   2036,   2117,   2038]],\n",
       "       dtype=torch.int32)"
      ]
     },
     "execution_count": 57,
     "metadata": {},
     "output_type": "execute_result"
    }
   ],
   "source": [
    "us_sk"
   ]
  },
  {
   "cell_type": "code",
   "execution_count": 58,
   "id": "209528e3",
   "metadata": {},
   "outputs": [],
   "source": [
    "data['user', 'taken', 'skill'].edge_index=us_sk"
   ]
  },
  {
   "cell_type": "code",
   "execution_count": 59,
   "id": "8507a750",
   "metadata": {},
   "outputs": [
    {
     "data": {
      "text/plain": [
       "tensor([[   740,    749,    777,  ..., 439666, 439666, 439666],\n",
       "        [   431,    431,    431,  ...,   2036,   2117,   2038]],\n",
       "       dtype=torch.int32)"
      ]
     },
     "execution_count": 59,
     "metadata": {},
     "output_type": "execute_result"
    }
   ],
   "source": [
    "data['user', 'taken', 'skill'].edge_index"
   ]
  },
  {
   "cell_type": "code",
   "execution_count": 60,
   "id": "50ee4338",
   "metadata": {},
   "outputs": [
    {
     "data": {
      "text/plain": [
       "HeteroData(\n",
       "  \u001b[1muser\u001b[0m={ x=[2386, 2386] },\n",
       "  \u001b[1mskill\u001b[0m={ x=[329, 10] },\n",
       "  \u001b[1m(user, taken, skill)\u001b[0m={ edge_index=[2, 31056] }\n",
       ")"
      ]
     },
     "execution_count": 60,
     "metadata": {},
     "output_type": "execute_result"
    }
   ],
   "source": [
    "data"
   ]
  },
  {
   "cell_type": "code",
   "execution_count": 61,
   "id": "d4ffb68f",
   "metadata": {},
   "outputs": [],
   "source": [
    "edg_index=pd.read_csv(r\"C:\\Users\\tubaid\\Desktop\\updated data\\final\\final_encoded_user_skill.csv\")"
   ]
  },
  {
   "cell_type": "code",
   "execution_count": 62,
   "id": "7721e5d4",
   "metadata": {},
   "outputs": [
    {
     "data": {
      "text/html": [
       "<div>\n",
       "<style scoped>\n",
       "    .dataframe tbody tr th:only-of-type {\n",
       "        vertical-align: middle;\n",
       "    }\n",
       "\n",
       "    .dataframe tbody tr th {\n",
       "        vertical-align: top;\n",
       "    }\n",
       "\n",
       "    .dataframe thead th {\n",
       "        text-align: right;\n",
       "    }\n",
       "</style>\n",
       "<table border=\"1\" class=\"dataframe\">\n",
       "  <thead>\n",
       "    <tr style=\"text-align: right;\">\n",
       "      <th></th>\n",
       "      <th>SkillId</th>\n",
       "      <th>UserId</th>\n",
       "      <th>CurrentProficiency</th>\n",
       "      <th>PreviousProficiency</th>\n",
       "      <th>CurrentAccuracy</th>\n",
       "      <th>PreviousAccuracy</th>\n",
       "      <th>CoveragePercentage</th>\n",
       "      <th>AccuracyPercentage</th>\n",
       "      <th>TotalQuestions</th>\n",
       "      <th>CorrectQuestions</th>\n",
       "      <th>MedianPercentage</th>\n",
       "      <th>PreviousAchievement</th>\n",
       "      <th>IsSkillStuck</th>\n",
       "      <th>CurrentAchievementScore</th>\n",
       "      <th>TotalAchievementScore</th>\n",
       "      <th>AchievementPercentage</th>\n",
       "      <th>ProficiencyTime</th>\n",
       "      <th>SkillStuckAttempts</th>\n",
       "      <th>Encoded_UserId</th>\n",
       "      <th>Encoded_SkillId</th>\n",
       "    </tr>\n",
       "  </thead>\n",
       "  <tbody>\n",
       "    <tr>\n",
       "      <th>0</th>\n",
       "      <td>431</td>\n",
       "      <td>740</td>\n",
       "      <td>1</td>\n",
       "      <td>1</td>\n",
       "      <td>0.0</td>\n",
       "      <td>0.0</td>\n",
       "      <td>10</td>\n",
       "      <td>0.0</td>\n",
       "      <td>10</td>\n",
       "      <td>0</td>\n",
       "      <td>0.0</td>\n",
       "      <td>0.0</td>\n",
       "      <td>1</td>\n",
       "      <td>0.0</td>\n",
       "      <td>0</td>\n",
       "      <td>0.0</td>\n",
       "      <td>0.0</td>\n",
       "      <td>0</td>\n",
       "      <td>2</td>\n",
       "      <td>43</td>\n",
       "    </tr>\n",
       "    <tr>\n",
       "      <th>1</th>\n",
       "      <td>431</td>\n",
       "      <td>749</td>\n",
       "      <td>1</td>\n",
       "      <td>1</td>\n",
       "      <td>20.0</td>\n",
       "      <td>100.0</td>\n",
       "      <td>10</td>\n",
       "      <td>20.0</td>\n",
       "      <td>10</td>\n",
       "      <td>2</td>\n",
       "      <td>20.0</td>\n",
       "      <td>0.0</td>\n",
       "      <td>0</td>\n",
       "      <td>0.0</td>\n",
       "      <td>0</td>\n",
       "      <td>0.0</td>\n",
       "      <td>0.0</td>\n",
       "      <td>0</td>\n",
       "      <td>3</td>\n",
       "      <td>43</td>\n",
       "    </tr>\n",
       "    <tr>\n",
       "      <th>2</th>\n",
       "      <td>431</td>\n",
       "      <td>777</td>\n",
       "      <td>1</td>\n",
       "      <td>1</td>\n",
       "      <td>0.0</td>\n",
       "      <td>100.0</td>\n",
       "      <td>10</td>\n",
       "      <td>0.0</td>\n",
       "      <td>10</td>\n",
       "      <td>0</td>\n",
       "      <td>0.0</td>\n",
       "      <td>10.0</td>\n",
       "      <td>0</td>\n",
       "      <td>0.0</td>\n",
       "      <td>100</td>\n",
       "      <td>0.0</td>\n",
       "      <td>0.0</td>\n",
       "      <td>1</td>\n",
       "      <td>5</td>\n",
       "      <td>43</td>\n",
       "    </tr>\n",
       "    <tr>\n",
       "      <th>3</th>\n",
       "      <td>431</td>\n",
       "      <td>780</td>\n",
       "      <td>1</td>\n",
       "      <td>1</td>\n",
       "      <td>10.0</td>\n",
       "      <td>0.0</td>\n",
       "      <td>10</td>\n",
       "      <td>10.0</td>\n",
       "      <td>10</td>\n",
       "      <td>1</td>\n",
       "      <td>10.0</td>\n",
       "      <td>0.0</td>\n",
       "      <td>0</td>\n",
       "      <td>10.0</td>\n",
       "      <td>100</td>\n",
       "      <td>10.0</td>\n",
       "      <td>0.0</td>\n",
       "      <td>0</td>\n",
       "      <td>6</td>\n",
       "      <td>43</td>\n",
       "    </tr>\n",
       "    <tr>\n",
       "      <th>4</th>\n",
       "      <td>431</td>\n",
       "      <td>806</td>\n",
       "      <td>4</td>\n",
       "      <td>0</td>\n",
       "      <td>100.0</td>\n",
       "      <td>0.0</td>\n",
       "      <td>10</td>\n",
       "      <td>100.0</td>\n",
       "      <td>10</td>\n",
       "      <td>10</td>\n",
       "      <td>100.0</td>\n",
       "      <td>0.0</td>\n",
       "      <td>0</td>\n",
       "      <td>0.0</td>\n",
       "      <td>0</td>\n",
       "      <td>0.0</td>\n",
       "      <td>0.0</td>\n",
       "      <td>0</td>\n",
       "      <td>8</td>\n",
       "      <td>43</td>\n",
       "    </tr>\n",
       "    <tr>\n",
       "      <th>...</th>\n",
       "      <td>...</td>\n",
       "      <td>...</td>\n",
       "      <td>...</td>\n",
       "      <td>...</td>\n",
       "      <td>...</td>\n",
       "      <td>...</td>\n",
       "      <td>...</td>\n",
       "      <td>...</td>\n",
       "      <td>...</td>\n",
       "      <td>...</td>\n",
       "      <td>...</td>\n",
       "      <td>...</td>\n",
       "      <td>...</td>\n",
       "      <td>...</td>\n",
       "      <td>...</td>\n",
       "      <td>...</td>\n",
       "      <td>...</td>\n",
       "      <td>...</td>\n",
       "      <td>...</td>\n",
       "      <td>...</td>\n",
       "    </tr>\n",
       "    <tr>\n",
       "      <th>31051</th>\n",
       "      <td>2130</td>\n",
       "      <td>437992</td>\n",
       "      <td>1</td>\n",
       "      <td>0</td>\n",
       "      <td>0.0</td>\n",
       "      <td>0.0</td>\n",
       "      <td>2</td>\n",
       "      <td>0.0</td>\n",
       "      <td>2</td>\n",
       "      <td>0</td>\n",
       "      <td>0.0</td>\n",
       "      <td>0.0</td>\n",
       "      <td>0</td>\n",
       "      <td>0.0</td>\n",
       "      <td>100</td>\n",
       "      <td>0.0</td>\n",
       "      <td>0.0</td>\n",
       "      <td>0</td>\n",
       "      <td>2360</td>\n",
       "      <td>296</td>\n",
       "    </tr>\n",
       "    <tr>\n",
       "      <th>31052</th>\n",
       "      <td>2135</td>\n",
       "      <td>437992</td>\n",
       "      <td>1</td>\n",
       "      <td>0</td>\n",
       "      <td>0.0</td>\n",
       "      <td>0.0</td>\n",
       "      <td>2</td>\n",
       "      <td>0.0</td>\n",
       "      <td>2</td>\n",
       "      <td>0</td>\n",
       "      <td>0.0</td>\n",
       "      <td>0.0</td>\n",
       "      <td>0</td>\n",
       "      <td>0.0</td>\n",
       "      <td>100</td>\n",
       "      <td>0.0</td>\n",
       "      <td>0.0</td>\n",
       "      <td>0</td>\n",
       "      <td>2360</td>\n",
       "      <td>301</td>\n",
       "    </tr>\n",
       "    <tr>\n",
       "      <th>31053</th>\n",
       "      <td>2036</td>\n",
       "      <td>439666</td>\n",
       "      <td>1</td>\n",
       "      <td>0</td>\n",
       "      <td>0.0</td>\n",
       "      <td>0.0</td>\n",
       "      <td>2</td>\n",
       "      <td>0.0</td>\n",
       "      <td>2</td>\n",
       "      <td>0</td>\n",
       "      <td>0.0</td>\n",
       "      <td>0.0</td>\n",
       "      <td>0</td>\n",
       "      <td>0.0</td>\n",
       "      <td>100</td>\n",
       "      <td>0.0</td>\n",
       "      <td>0.0</td>\n",
       "      <td>0</td>\n",
       "      <td>2378</td>\n",
       "      <td>277</td>\n",
       "    </tr>\n",
       "    <tr>\n",
       "      <th>31054</th>\n",
       "      <td>2117</td>\n",
       "      <td>439666</td>\n",
       "      <td>1</td>\n",
       "      <td>0</td>\n",
       "      <td>100.0</td>\n",
       "      <td>0.0</td>\n",
       "      <td>2</td>\n",
       "      <td>100.0</td>\n",
       "      <td>2</td>\n",
       "      <td>2</td>\n",
       "      <td>20.0</td>\n",
       "      <td>0.0</td>\n",
       "      <td>0</td>\n",
       "      <td>20.0</td>\n",
       "      <td>100</td>\n",
       "      <td>20.0</td>\n",
       "      <td>0.0</td>\n",
       "      <td>0</td>\n",
       "      <td>2378</td>\n",
       "      <td>283</td>\n",
       "    </tr>\n",
       "    <tr>\n",
       "      <th>31055</th>\n",
       "      <td>2038</td>\n",
       "      <td>439666</td>\n",
       "      <td>1</td>\n",
       "      <td>1</td>\n",
       "      <td>0.0</td>\n",
       "      <td>0.0</td>\n",
       "      <td>4</td>\n",
       "      <td>0.0</td>\n",
       "      <td>4</td>\n",
       "      <td>0</td>\n",
       "      <td>0.0</td>\n",
       "      <td>0.0</td>\n",
       "      <td>0</td>\n",
       "      <td>0.0</td>\n",
       "      <td>100</td>\n",
       "      <td>0.0</td>\n",
       "      <td>0.0</td>\n",
       "      <td>0</td>\n",
       "      <td>2378</td>\n",
       "      <td>279</td>\n",
       "    </tr>\n",
       "  </tbody>\n",
       "</table>\n",
       "<p>31056 rows × 20 columns</p>\n",
       "</div>"
      ],
      "text/plain": [
       "       SkillId  UserId  CurrentProficiency  PreviousProficiency  \\\n",
       "0          431     740                   1                    1   \n",
       "1          431     749                   1                    1   \n",
       "2          431     777                   1                    1   \n",
       "3          431     780                   1                    1   \n",
       "4          431     806                   4                    0   \n",
       "...        ...     ...                 ...                  ...   \n",
       "31051     2130  437992                   1                    0   \n",
       "31052     2135  437992                   1                    0   \n",
       "31053     2036  439666                   1                    0   \n",
       "31054     2117  439666                   1                    0   \n",
       "31055     2038  439666                   1                    1   \n",
       "\n",
       "       CurrentAccuracy  PreviousAccuracy  CoveragePercentage  \\\n",
       "0                  0.0               0.0                  10   \n",
       "1                 20.0             100.0                  10   \n",
       "2                  0.0             100.0                  10   \n",
       "3                 10.0               0.0                  10   \n",
       "4                100.0               0.0                  10   \n",
       "...                ...               ...                 ...   \n",
       "31051              0.0               0.0                   2   \n",
       "31052              0.0               0.0                   2   \n",
       "31053              0.0               0.0                   2   \n",
       "31054            100.0               0.0                   2   \n",
       "31055              0.0               0.0                   4   \n",
       "\n",
       "       AccuracyPercentage  TotalQuestions  CorrectQuestions  MedianPercentage  \\\n",
       "0                     0.0              10                 0               0.0   \n",
       "1                    20.0              10                 2              20.0   \n",
       "2                     0.0              10                 0               0.0   \n",
       "3                    10.0              10                 1              10.0   \n",
       "4                   100.0              10                10             100.0   \n",
       "...                   ...             ...               ...               ...   \n",
       "31051                 0.0               2                 0               0.0   \n",
       "31052                 0.0               2                 0               0.0   \n",
       "31053                 0.0               2                 0               0.0   \n",
       "31054               100.0               2                 2              20.0   \n",
       "31055                 0.0               4                 0               0.0   \n",
       "\n",
       "       PreviousAchievement  IsSkillStuck  CurrentAchievementScore  \\\n",
       "0                      0.0             1                      0.0   \n",
       "1                      0.0             0                      0.0   \n",
       "2                     10.0             0                      0.0   \n",
       "3                      0.0             0                     10.0   \n",
       "4                      0.0             0                      0.0   \n",
       "...                    ...           ...                      ...   \n",
       "31051                  0.0             0                      0.0   \n",
       "31052                  0.0             0                      0.0   \n",
       "31053                  0.0             0                      0.0   \n",
       "31054                  0.0             0                     20.0   \n",
       "31055                  0.0             0                      0.0   \n",
       "\n",
       "       TotalAchievementScore  AchievementPercentage  ProficiencyTime  \\\n",
       "0                          0                    0.0              0.0   \n",
       "1                          0                    0.0              0.0   \n",
       "2                        100                    0.0              0.0   \n",
       "3                        100                   10.0              0.0   \n",
       "4                          0                    0.0              0.0   \n",
       "...                      ...                    ...              ...   \n",
       "31051                    100                    0.0              0.0   \n",
       "31052                    100                    0.0              0.0   \n",
       "31053                    100                    0.0              0.0   \n",
       "31054                    100                   20.0              0.0   \n",
       "31055                    100                    0.0              0.0   \n",
       "\n",
       "       SkillStuckAttempts  Encoded_UserId  Encoded_SkillId  \n",
       "0                       0               2               43  \n",
       "1                       0               3               43  \n",
       "2                       1               5               43  \n",
       "3                       0               6               43  \n",
       "4                       0               8               43  \n",
       "...                   ...             ...              ...  \n",
       "31051                   0            2360              296  \n",
       "31052                   0            2360              301  \n",
       "31053                   0            2378              277  \n",
       "31054                   0            2378              283  \n",
       "31055                   0            2378              279  \n",
       "\n",
       "[31056 rows x 20 columns]"
      ]
     },
     "execution_count": 62,
     "metadata": {},
     "output_type": "execute_result"
    }
   ],
   "source": [
    "edg_index"
   ]
  },
  {
   "cell_type": "code",
   "execution_count": 63,
   "id": "4a03ba44",
   "metadata": {},
   "outputs": [],
   "source": [
    "edg_index_lst=edg_index['CurrentProficiency'].values.tolist()\n",
    "edg_index_lst=numpy.array(edg_index_lst)"
   ]
  },
  {
   "cell_type": "code",
   "execution_count": 64,
   "id": "9bb54de4",
   "metadata": {},
   "outputs": [
    {
     "data": {
      "text/plain": [
       "array([1, 1, 1, ..., 1, 1, 1])"
      ]
     },
     "execution_count": 64,
     "metadata": {},
     "output_type": "execute_result"
    }
   ],
   "source": [
    "edg_index_lst"
   ]
  },
  {
   "cell_type": "code",
   "execution_count": 65,
   "id": "cebd979e",
   "metadata": {},
   "outputs": [],
   "source": [
    "edg_index_lst=torch.from_numpy(edg_index_lst)"
   ]
  },
  {
   "cell_type": "code",
   "execution_count": 66,
   "id": "9b506e3f",
   "metadata": {},
   "outputs": [
    {
     "data": {
      "text/plain": [
       "tensor([1, 1, 1,  ..., 1, 1, 1], dtype=torch.int32)"
      ]
     },
     "execution_count": 66,
     "metadata": {},
     "output_type": "execute_result"
    }
   ],
   "source": [
    "edg_index_lst"
   ]
  },
  {
   "cell_type": "code",
   "execution_count": null,
   "id": "70b70619",
   "metadata": {},
   "outputs": [],
   "source": [
    "# edg_index_lst=torch.from_numpy(edg_index_lst)\n",
    "# edg_index_lst=torch.Tensor(edg_index_lst)"
   ]
  },
  {
   "cell_type": "code",
   "execution_count": null,
   "id": "1994a174",
   "metadata": {},
   "outputs": [],
   "source": [
    "# edg_index_lst.type()"
   ]
  },
  {
   "cell_type": "code",
   "execution_count": null,
   "id": "e1dd0ffd",
   "metadata": {},
   "outputs": [],
   "source": []
  },
  {
   "cell_type": "code",
   "execution_count": 67,
   "id": "2fcc30a3",
   "metadata": {},
   "outputs": [
    {
     "data": {
      "text/plain": [
       "tensor([1, 1, 1,  ..., 1, 1, 1], dtype=torch.int32)"
      ]
     },
     "execution_count": 67,
     "metadata": {},
     "output_type": "execute_result"
    }
   ],
   "source": [
    "edg_index_lst"
   ]
  },
  {
   "cell_type": "code",
   "execution_count": 68,
   "id": "b1cf52cc",
   "metadata": {},
   "outputs": [],
   "source": [
    "data['user', 'taken', 'skill'].edge_label=edg_index_lst"
   ]
  },
  {
   "cell_type": "code",
   "execution_count": 69,
   "id": "dbce0629",
   "metadata": {},
   "outputs": [
    {
     "data": {
      "text/plain": [
       "tensor([1, 1, 1,  ..., 1, 1, 1], dtype=torch.int32)"
      ]
     },
     "execution_count": 69,
     "metadata": {},
     "output_type": "execute_result"
    }
   ],
   "source": [
    "data['user', 'taken', 'skill'].edge_label"
   ]
  },
  {
   "cell_type": "code",
   "execution_count": 70,
   "id": "81f0f0fe",
   "metadata": {},
   "outputs": [
    {
     "data": {
      "text/plain": [
       "HeteroData(\n",
       "  \u001b[1muser\u001b[0m={ x=[2386, 2386] },\n",
       "  \u001b[1mskill\u001b[0m={ x=[329, 10] },\n",
       "  \u001b[1m(user, taken, skill)\u001b[0m={\n",
       "    edge_index=[2, 31056],\n",
       "    edge_label=[31056]\n",
       "  }\n",
       ")"
      ]
     },
     "execution_count": 70,
     "metadata": {},
     "output_type": "execute_result"
    }
   ],
   "source": [
    "data"
   ]
  },
  {
   "cell_type": "code",
   "execution_count": 71,
   "id": "ffc0059b",
   "metadata": {},
   "outputs": [],
   "source": [
    "# Add a reverse ('movie', 'rev_rates', 'user') relation for message passing:\n",
    "data = T.ToUndirected()(data)"
   ]
  },
  {
   "cell_type": "code",
   "execution_count": 72,
   "id": "1fa5627a",
   "metadata": {},
   "outputs": [
    {
     "data": {
      "text/plain": [
       "HeteroData(\n",
       "  \u001b[1muser\u001b[0m={ x=[2386, 2386] },\n",
       "  \u001b[1mskill\u001b[0m={ x=[329, 10] },\n",
       "  \u001b[1m(user, taken, skill)\u001b[0m={\n",
       "    edge_index=[2, 31056],\n",
       "    edge_label=[31056]\n",
       "  },\n",
       "  \u001b[1m(skill, rev_taken, user)\u001b[0m={\n",
       "    edge_index=[2, 31056],\n",
       "    edge_label=[31056]\n",
       "  }\n",
       ")"
      ]
     },
     "execution_count": 72,
     "metadata": {},
     "output_type": "execute_result"
    }
   ],
   "source": [
    "data"
   ]
  },
  {
   "cell_type": "code",
   "execution_count": 73,
   "id": "eaaa6d47",
   "metadata": {},
   "outputs": [],
   "source": [
    "del data['skill', 'rev_taken', 'user'].edge_label"
   ]
  },
  {
   "cell_type": "code",
   "execution_count": 74,
   "id": "decc3cd2",
   "metadata": {},
   "outputs": [
    {
     "data": {
      "text/plain": [
       "HeteroData(\n",
       "  \u001b[1muser\u001b[0m={ x=[2386, 2386] },\n",
       "  \u001b[1mskill\u001b[0m={ x=[329, 10] },\n",
       "  \u001b[1m(user, taken, skill)\u001b[0m={\n",
       "    edge_index=[2, 31056],\n",
       "    edge_label=[31056]\n",
       "  },\n",
       "  \u001b[1m(skill, rev_taken, user)\u001b[0m={ edge_index=[2, 31056] }\n",
       ")"
      ]
     },
     "execution_count": 74,
     "metadata": {},
     "output_type": "execute_result"
    }
   ],
   "source": [
    "data"
   ]
  },
  {
   "cell_type": "code",
   "execution_count": 75,
   "id": "18cbf56f",
   "metadata": {},
   "outputs": [],
   "source": [
    "# Perform a link-level split into training, validation, and test edges:\n",
    "train_data, val_data, test_data = T.RandomLinkSplit(\n",
    "    num_val=0.1,\n",
    "    num_test=0.1,\n",
    "    neg_sampling_ratio=0.0,\n",
    "    edge_types=[('user', 'taken', 'skill')],\n",
    "    rev_edge_types=[('skill', 'rev_taken', 'user')],\n",
    ")(data)"
   ]
  },
  {
   "cell_type": "code",
   "execution_count": 76,
   "id": "ce2934db",
   "metadata": {},
   "outputs": [
    {
     "data": {
      "text/plain": [
       "HeteroData(\n",
       "  \u001b[1muser\u001b[0m={ x=[2386, 2386] },\n",
       "  \u001b[1mskill\u001b[0m={ x=[329, 10] },\n",
       "  \u001b[1m(user, taken, skill)\u001b[0m={\n",
       "    edge_index=[2, 24846],\n",
       "    edge_label=[24846],\n",
       "    edge_label_index=[2, 24846]\n",
       "  },\n",
       "  \u001b[1m(skill, rev_taken, user)\u001b[0m={ edge_index=[2, 24846] }\n",
       ")"
      ]
     },
     "execution_count": 76,
     "metadata": {},
     "output_type": "execute_result"
    }
   ],
   "source": [
    "    train_data"
   ]
  },
  {
   "cell_type": "code",
   "execution_count": 77,
   "id": "ddc75e28",
   "metadata": {},
   "outputs": [],
   "source": [
    "# parser = argparse.ArgumentParser()\n",
    "# parser.add_argument('--use_weighted_loss', action='store_true',\n",
    "#                     help='Whether to use weighted MSE loss.')\n",
    "# args = parser.parse_args()\n",
    "\n",
    "device = torch.device('cuda' if torch.cuda.is_available() else 'cpu')"
   ]
  },
  {
   "cell_type": "code",
   "execution_count": 78,
   "id": "9911544c",
   "metadata": {},
   "outputs": [
    {
     "data": {
      "text/plain": [
       "device(type='cuda')"
      ]
     },
     "execution_count": 78,
     "metadata": {},
     "output_type": "execute_result"
    }
   ],
   "source": [
    "device"
   ]
  },
  {
   "cell_type": "code",
   "execution_count": 79,
   "id": "2d62633f",
   "metadata": {},
   "outputs": [],
   "source": [
    "# We have an unbalanced dataset with many labels for rating 3 and 4, and very\n",
    "# few for 0 and 1. Therefore we use a weighted MSE loss.\n",
    "# if args.use_weighted_loss:\n",
    "if True:\n",
    "    weight = torch.bincount(train_data['user', 'skill'].edge_label)\n",
    "    weight = weight.max() / weight\n",
    "else:\n",
    "    weight = None"
   ]
  },
  {
   "cell_type": "code",
   "execution_count": 80,
   "id": "fc7a3611",
   "metadata": {},
   "outputs": [],
   "source": [
    "def weighted_mse_loss(pred, target, weight=None):\n",
    "    weight = 1. if weight is None else weight[target].to(pred.dtype)\n",
    "    return (weight * (pred - target.to(pred.dtype)).pow(2)).mean()"
   ]
  },
  {
   "cell_type": "code",
   "execution_count": 81,
   "id": "367ace74",
   "metadata": {},
   "outputs": [],
   "source": [
    "class GNNEncoder(torch.nn.Module):\n",
    "    def __init__(self, hidden_channels, out_channels):\n",
    "        super().__init__()\n",
    "        self.conv1 = SAGEConv((-1, -1), hidden_channels)\n",
    "        self.conv2 = SAGEConv((-1, -1), out_channels)\n",
    "\n",
    "    def forward(self, x, edge_index):\n",
    "        x = self.conv1(x, edge_index).relu()\n",
    "        x = self.conv2(x, edge_index)\n",
    "        return x\n",
    "\n",
    "\n",
    "class EdgeDecoder(torch.nn.Module):\n",
    "    def __init__(self, hidden_channels):\n",
    "        super().__init__()\n",
    "        self.lin1 = Linear(2 * hidden_channels, hidden_channels)\n",
    "        self.lin2 = Linear(hidden_channels, 1)\n",
    "\n",
    "    def forward(self, z_dict, edge_label_index):\n",
    "        row, col = edge_label_index\n",
    "        z = torch.cat([z_dict['user'][row], z_dict['movie'][col]], dim=-1)\n",
    "\n",
    "        z = self.lin1(z).relu()\n",
    "        z = self.lin2(z)\n",
    "        return z.view(-1)\n"
   ]
  },
  {
   "cell_type": "code",
   "execution_count": 82,
   "id": "cf160918",
   "metadata": {},
   "outputs": [],
   "source": [
    "class Model(torch.nn.Module):\n",
    "    def __init__(self, hidden_channels):\n",
    "        super().__init__()\n",
    "        self.encoder = GNNEncoder(hidden_channels, hidden_channels)\n",
    "        self.encoder = to_hetero(self.encoder, data.metadata(), aggr='sum')\n",
    "        self.decoder = EdgeDecoder(hidden_channels)\n",
    "\n",
    "    def forward(self, x_dict, edge_index_dict, edge_label_index):\n",
    "        z_dict = self.encoder(x_dict, edge_index_dict)\n",
    "        return self.decoder(z_dict, edge_label_index)"
   ]
  },
  {
   "cell_type": "code",
   "execution_count": 83,
   "id": "5a9f68bd",
   "metadata": {},
   "outputs": [],
   "source": [
    "model = Model(hidden_channels=32).to(device)"
   ]
  },
  {
   "cell_type": "raw",
   "id": "e598a476",
   "metadata": {},
   "source": [
    "train_data.x_dict"
   ]
  },
  {
   "cell_type": "code",
   "execution_count": 84,
   "id": "639d3100",
   "metadata": {},
   "outputs": [
    {
     "ename": "AssertionError",
     "evalue": "",
     "output_type": "error",
     "traceback": [
      "\u001b[1;31m---------------------------------------------------------------------------\u001b[0m",
      "\u001b[1;31mAssertionError\u001b[0m                            Traceback (most recent call last)",
      "Input \u001b[1;32mIn [84]\u001b[0m, in \u001b[0;36m<cell line: 1>\u001b[1;34m()\u001b[0m\n\u001b[0;32m      1\u001b[0m \u001b[38;5;28;01mwith\u001b[39;00m torch\u001b[38;5;241m.\u001b[39mno_grad():\n\u001b[1;32m----> 2\u001b[0m     \u001b[43mmodel\u001b[49m\u001b[38;5;241;43m.\u001b[39;49m\u001b[43mencoder\u001b[49m\u001b[43m(\u001b[49m\u001b[43mtrain_data\u001b[49m\u001b[38;5;241;43m.\u001b[39;49m\u001b[43mx_dict\u001b[49m\u001b[43m,\u001b[49m\u001b[43m \u001b[49m\u001b[43mtrain_data\u001b[49m\u001b[38;5;241;43m.\u001b[39;49m\u001b[43medge_index_dict\u001b[49m\u001b[43m)\u001b[49m\n\u001b[0;32m      4\u001b[0m optimizer \u001b[38;5;241m=\u001b[39m torch\u001b[38;5;241m.\u001b[39moptim\u001b[38;5;241m.\u001b[39mAdam(model\u001b[38;5;241m.\u001b[39mparameters(), lr\u001b[38;5;241m=\u001b[39m\u001b[38;5;241m0.01\u001b[39m)\n",
      "File \u001b[1;32m~\\Anaconda3\\envs\\py_master\\lib\\site-packages\\torch\\fx\\graph_module.py:630\u001b[0m, in \u001b[0;36mGraphModule.recompile.<locals>.wrapped_call\u001b[1;34m(self, *args, **kwargs)\u001b[0m\n\u001b[0;32m    627\u001b[0m \u001b[38;5;28;01mif\u001b[39;00m \u001b[38;5;124m\"\u001b[39m\u001b[38;5;124meval_with_key\u001b[39m\u001b[38;5;124m\"\u001b[39m \u001b[38;5;129;01min\u001b[39;00m topmost_framesummary\u001b[38;5;241m.\u001b[39mfilename:\n\u001b[0;32m    628\u001b[0m     \u001b[38;5;28mprint\u001b[39m(generate_error_message(topmost_framesummary),\n\u001b[0;32m    629\u001b[0m           file\u001b[38;5;241m=\u001b[39msys\u001b[38;5;241m.\u001b[39mstderr)\n\u001b[1;32m--> 630\u001b[0m \u001b[38;5;28;01mraise\u001b[39;00m e\u001b[38;5;241m.\u001b[39mwith_traceback(\u001b[38;5;28;01mNone\u001b[39;00m)\n",
      "\u001b[1;31mAssertionError\u001b[0m: "
     ]
    }
   ],
   "source": [
    "with torch.no_grad():\n",
    "    model.encoder(train_data.x_dict, train_data.edge_index_dict)\n",
    "\n",
    "optimizer = torch.optim.Adam(model.parameters(), lr=0.01)"
   ]
  },
  {
   "cell_type": "code",
   "execution_count": 85,
   "id": "ddf7b17a",
   "metadata": {},
   "outputs": [
    {
     "data": {
      "text/plain": [
       "{'user': tensor([[1., 0., 0.,  ..., 0., 0., 0.],\n",
       "         [0., 1., 0.,  ..., 0., 0., 0.],\n",
       "         [0., 0., 1.,  ..., 0., 0., 0.],\n",
       "         ...,\n",
       "         [0., 0., 0.,  ..., 1., 0., 0.],\n",
       "         [0., 0., 0.,  ..., 0., 1., 0.],\n",
       "         [0., 0., 0.,  ..., 0., 0., 1.]], device='cuda:0'),\n",
       " 'skill': tensor([[2.0000e+00, 5.5459e+01, 2.1911e+01,  ..., 2.3000e+01, 6.1979e+02,\n",
       "          5.8471e+00],\n",
       "         [2.0000e+00, 5.6270e+01, 2.4113e+01,  ..., 1.1000e+01, 2.2130e+02,\n",
       "          6.3229e+00],\n",
       "         [3.0000e+00, 7.7836e+01, 1.8145e+01,  ..., 5.7000e+01, 5.4521e+03,\n",
       "          6.1398e+00],\n",
       "         ...,\n",
       "         [2.0000e+00, 6.0504e+01, 8.5926e+00,  ..., 7.7000e+01, 3.9128e+03,\n",
       "          8.7339e+00],\n",
       "         [1.0000e+00, 5.8680e+01, 5.6356e+00,  ..., 2.2000e+01, 8.4893e+02,\n",
       "          5.1764e+00],\n",
       "         [1.0000e+00, 3.2713e+01, 8.2093e+00,  ..., 2.1000e+01, 3.5763e+02,\n",
       "          7.1526e+00]])}"
      ]
     },
     "execution_count": 85,
     "metadata": {},
     "output_type": "execute_result"
    }
   ],
   "source": [
    "train_data.x_dict"
   ]
  },
  {
   "cell_type": "code",
   "execution_count": 86,
   "id": "ecb5946e",
   "metadata": {},
   "outputs": [
    {
     "data": {
      "text/plain": [
       "{('user',\n",
       "  'taken',\n",
       "  'skill'): tensor([[159235,  85819, 253772,  ...,  33578, 338809,  80539],\n",
       "         [  2120,    973,   2032,  ...,    432,    445,    439]],\n",
       "        dtype=torch.int32),\n",
       " ('skill',\n",
       "  'rev_taken',\n",
       "  'user'): tensor([[  2120,    973,   2032,  ...,    432,    445,    439],\n",
       "         [159235,  85819, 253772,  ...,  33578, 338809,  80539]],\n",
       "        dtype=torch.int32)}"
      ]
     },
     "execution_count": 86,
     "metadata": {},
     "output_type": "execute_result"
    }
   ],
   "source": [
    "train_data.edge_index_dict"
   ]
  },
  {
   "cell_type": "code",
   "execution_count": null,
   "id": "ec433131",
   "metadata": {},
   "outputs": [],
   "source": []
  },
  {
   "cell_type": "code",
   "execution_count": null,
   "id": "e7a717de",
   "metadata": {},
   "outputs": [],
   "source": []
  },
  {
   "cell_type": "code",
   "execution_count": null,
   "id": "207e9955",
   "metadata": {},
   "outputs": [],
   "source": []
  }
 ],
 "metadata": {
  "kernelspec": {
   "display_name": "Python 3 (ipykernel)",
   "language": "python",
   "name": "python3"
  },
  "language_info": {
   "codemirror_mode": {
    "name": "ipython",
    "version": 3
   },
   "file_extension": ".py",
   "mimetype": "text/x-python",
   "name": "python",
   "nbconvert_exporter": "python",
   "pygments_lexer": "ipython3",
   "version": "3.9.12"
  }
 },
 "nbformat": 4,
 "nbformat_minor": 5
}
