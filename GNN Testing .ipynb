{
 "cells": [
  {
   "cell_type": "code",
   "execution_count": 52,
   "id": "972ce468",
   "metadata": {},
   "outputs": [],
   "source": [
    "import numpy as np\n",
    "import torch\n",
    "import torch_geometric.datasets as datasets\n",
    "import torch_geometric.data as data\n",
    "import torch_geometric.transforms as transforms\n",
    "import networkx as nx\n",
    "from torch_geometric.utils.convert import to_networkx"
   ]
  },
  {
   "cell_type": "code",
   "execution_count": 53,
   "id": "16f25435",
   "metadata": {},
   "outputs": [
    {
     "name": "stdout",
     "output_type": "stream",
     "text": [
      "[451, 475, 477, 728, 967, 979, 981, 983, 445, 456, 462, 864, 940, 448, 469, 516, 527, 712, 716, 443, 453, 464, 468, 474, 446, 470, 941, 974, 975, 977, 520, 523, 525, 526, 714, 721, 519, 524, 962, 439, 450, 717, 971, 989, 454, 459, 460, 463, 467, 512, 432, 437, 457, 722, 865, 869, 438, 440, 452, 713, 969, 461, 466, 482, 486, 472, 866, 984, 444, 484, 485, 488, 517, 723, 441, 442, 515, 870, 965, 968, 985, 2005, 433, 434, 455, 476, 478, 514, 522, 720, 990, 431, 513, 518, 727, 867, 2011, 2012, 961, 973, 980, 2024, 2026, 471, 479, 483, 521, 719, 3687, 868, 964, 943, 992, 2025, 2030, 2006, 944, 982, 991, 2007, 963, 966, 2023, 2008, 2019, 2028, 970, 986, 988, 2015, 2017, 2009, 2014, 715, 726, 960, 2010, 2013, 2016, 2020, 2021, 2022, 976, 3686, 435, 449, 473, 480, 481, 718, 972, 978, 436, 447, 465, 487, 724, 725, 942, 987, 2018, 2027, 2029]\n"
     ]
    }
   ],
   "source": [
    "import pandas as pd\n",
    "df=pd.read_csv(r\"C:\\Users\\tubaid\\PycharmProjects\\smiple_GNN\\GraphNeuralNet-master\\ITEMS.csv\")\n",
    "\n",
    "# df.head()\n",
    "skills=df['SkillId'].tolist()\n",
    "print(skills)"
   ]
  },
  {
   "cell_type": "code",
   "execution_count": 54,
   "id": "93798a4d",
   "metadata": {},
   "outputs": [],
   "source": [
    "df=df.drop( columns=['SkillId'],axis=1)\n",
    "features = df.to_numpy().tolist()\n",
    "# print(features)"
   ]
  },
  {
   "cell_type": "code",
   "execution_count": 55,
   "id": "cd6b761e",
   "metadata": {},
   "outputs": [
    {
     "name": "stdout",
     "output_type": "stream",
     "text": [
      "torch.Size([163, 10])\n",
      "torch.Size([163])\n",
      "163\n",
      "163\n"
     ]
    }
   ],
   "source": [
    "x = torch.tensor(features, dtype=torch.float)\n",
    "y = torch.tensor(skills, dtype=torch.float)\n",
    "print(x.shape)\n",
    "print(y.shape)\n",
    "print(len(x))\n",
    "print(len(y))"
   ]
  },
  {
   "cell_type": "code",
   "execution_count": 56,
   "id": "f8a53d05",
   "metadata": {},
   "outputs": [
    {
     "name": "stdout",
     "output_type": "stream",
     "text": [
      "579\n"
     ]
    }
   ],
   "source": [
    "preReq=pd.read_excel(r\"C:\\Users\\tubaid\\PycharmProjects\\smiple_GNN\\GraphNeuralNet-master\\skils.xlsx\")\n",
    "ls=preReq.SkillId.unique().tolist()\n",
    "# print('total',len(preReq.SkillId.tolist()))\n",
    "# print('unique',ls)\n",
    "print(len(ls))\n",
    "\n",
    "skID = list(preReq['SkillId'])\n",
    "a_string = preReq['Prereqs'].fillna('0')\n",
    "\n",
    "pReq = []\n",
    "tmp = []\n",
    "for i in range(len(a_string)):\n",
    "    a_string[i] = a_string[i].replace(\",\", \" \")\n",
    "#     print(f'String {i} = {a_string[i]}')\n",
    "    if len(a_string[i])>6:\n",
    "        for word in a_string[i].split():\n",
    "            if word.isdigit():\n",
    "                tmp.append(int(word))\n",
    "        pReq.append(tmp)\n",
    "        tmp=[]\n",
    "    else:\n",
    "        for word in a_string[i].split():\n",
    "            if word.isdigit():\n",
    "                pReq.append([int(word)])\n",
    "\n",
    "gS_Data = []\n",
    "\n",
    "# print(gS_Data)\n",
    "gPR_Data = []\n",
    "for i in range(len(skID)):\n",
    "    for j in range (len(pReq[i])):\n",
    "        gS_Data.append(skID[i])\n",
    "        gPR_Data.append(pReq[i][j])\n",
    "\n",
    "gDf = pd.DataFrame({\n",
    "    'SkillId':gS_Data,\n",
    "    'PreRequisits':gPR_Data\n",
    "})"
   ]
  },
  {
   "cell_type": "code",
   "execution_count": 57,
   "id": "eec66503",
   "metadata": {},
   "outputs": [],
   "source": [
    "import torch\n",
    "from torch_geometric.data import Data\n",
    "edge_index = torch.tensor([gPR_Data,gS_Data], dtype=torch.long)\n",
    "dt=Data(x=x, y=y, edge_index=edge_index)"
   ]
  },
  {
   "cell_type": "code",
   "execution_count": 58,
   "id": "fda4e852",
   "metadata": {},
   "outputs": [
    {
     "data": {
      "text/plain": [
       "Data(x=[163, 10], edge_index=[2, 883], y=[163])"
      ]
     },
     "execution_count": 58,
     "metadata": {},
     "output_type": "execute_result"
    }
   ],
   "source": [
    "dt=Data(x=x, y=y, edge_index=edge_index)\n",
    "dt"
   ]
  },
  {
   "cell_type": "code",
   "execution_count": 59,
   "id": "dd6ae926",
   "metadata": {},
   "outputs": [
    {
     "data": {
      "text/plain": [
       "torch.Size([163, 10])"
      ]
     },
     "execution_count": 59,
     "metadata": {},
     "output_type": "execute_result"
    }
   ],
   "source": [
    "x.shape"
   ]
  },
  {
   "cell_type": "code",
   "execution_count": 60,
   "id": "2edfb91d",
   "metadata": {},
   "outputs": [],
   "source": [
    "from torch_geometric.datasets import Planetoid\n",
    "import torch\n",
    "import torch.nn.functional as F\n",
    "from torch_geometric.nn import MessagePassing\n",
    "from torch_geometric.utils import add_self_loops, degree\n",
    "import networkx as nx\n",
    "import numpy as np\n",
    "import matplotlib.pyplot as plt"
   ]
  },
  {
   "cell_type": "code",
   "execution_count": 61,
   "id": "9c921bf6",
   "metadata": {},
   "outputs": [],
   "source": [
    "class GCNConv(MessagePassing):\n",
    "    # Applies a linear tranformation to the incoming data\n",
    "    def __init__(self, in_channels, out_channels):\n",
    "        super(GCNConv, self).__init__(aggr='add')  # \"Add\" aggregation\n",
    "        self.lin = torch.nn.Linear(in_channels, out_channels)\n",
    "\n",
    "    def forward(self, x, edge_index):\n",
    "        # Step 1: Add self-loops\n",
    "        edge_index, _ = add_self_loops(edge_index, num_nodes=x.size(0))\n",
    "\n",
    "        # Step 2: Multiply with weights\n",
    "        x = self.lin(x)\n",
    "\n",
    "        # Step 3: Calculate the normalization\n",
    "        row, col = edge_index\n",
    "        deg = degree(row, x.size(0), dtype=x.dtype)\n",
    "        deg_inv_sqrt = deg.pow(-0.5)\n",
    "        norm = deg_inv_sqrt[row] * deg_inv_sqrt[col]\n",
    "\n",
    "        # Step 4: Propagate the embeddings to the next layer\n",
    "        return self.propagate(edge_index, size=(x.size(0), x.size(0)), x=x,\n",
    "                              norm=norm)\n",
    "\n",
    "    def message(self, x_j, norm):\n",
    "        # Normalize node features.\n",
    "        return norm.view(-1, 1) * x_j\n"
   ]
  },
  {
   "cell_type": "code",
   "execution_count": 62,
   "id": "8e49604b",
   "metadata": {},
   "outputs": [],
   "source": [
    "class Net(torch.nn.Module):\n",
    "\n",
    "    def __init__(self, dataset):\n",
    "        super(Net, self).__init__()\n",
    "        # two convolution layers of GCN\n",
    "        # first represnt the input and the second represnt the output layer\n",
    "        # dataset.num_node_features== number of input\n",
    "        # 16 hidden layers\n",
    "        # dataset.num_classes==outputclass\n",
    "        self.conv1 = GCNConv(10, 16)\n",
    "        self.conv2 = GCNConv(16, 7)\n",
    "    # represent the weights updates\n",
    "    # weights in output\n",
    "    def forward(self, data):\n",
    "        x, edge_index = data.x, data.edge_index\n",
    "        x = self.conv1(x, edge_index)\n",
    "        x = F.relu(x)\n",
    "        x = F.dropout(x, training=self.training)\n",
    "        x = self.conv2(x, edge_index)\n",
    "\n",
    "        return F.log_softmax(x, dim=1)\n",
    "\n"
   ]
  },
  {
   "cell_type": "code",
   "execution_count": 63,
   "id": "fec1c4ab",
   "metadata": {},
   "outputs": [],
   "source": [
    "def plot_dataset(dataset):\n",
    "    edges_raw = dataset.data.edge_index.numpy()\n",
    "    edges = [(x, y) for x, y in zip(edges_raw[0, :], edges_raw[1, :])]\n",
    "    labels = dataset.data.y.numpy()\n",
    "\n",
    "    G = nx.Graph()\n",
    "    G.add_nodes_from(list(range(np.max(edges_raw))))\n",
    "    G.add_edges_from(edges)\n",
    "    plt.subplot(111)\n",
    "    options = {\n",
    "                'node_size': 30,\n",
    "                'width': 0.2,\n",
    "    }\n",
    "    nx.draw(G, with_labels=False, node_color=labels.tolist(), cmap=plt.cm.tab10, font_weight='bold', **options)\n",
    "    plt.show()\n"
   ]
  },
  {
   "cell_type": "code",
   "execution_count": 64,
   "id": "bbf40ff3",
   "metadata": {},
   "outputs": [],
   "source": [
    "def test(data, train=True):\n",
    "    model.eval()\n",
    "\n",
    "    correct = 0\n",
    "    pred = model(data).max(dim=1)[1]\n",
    "\n",
    "    if train:\n",
    "        correct += pred[data.train_mask].eq(data.y[data.train_mask]).sum().item()\n",
    "        return correct / (len(data.y[data.train_mask]))\n",
    "    else:\n",
    "        correct += pred[data.test_mask].eq(data.y[data.test_mask]).sum().item()\n",
    "        return correct / (len(data.y[data.test_mask]))"
   ]
  },
  {
   "cell_type": "code",
   "execution_count": 65,
   "id": "e7f346c2",
   "metadata": {},
   "outputs": [],
   "source": [
    "def train(data, plot=False):\n",
    "#     train_accuracies, test_accuracies = list(), list()\n",
    "    train_accuracies, test_accuracies = [], []\n",
    "\n",
    "    for epoch in range(100):\n",
    "            model.train()\n",
    "            optimizer.zero_grad()\n",
    "            out = model(data)\n",
    "            loss = F.nll_loss(out[data.train_mask], data.y[data.train_mask])\n",
    "            loss.backward()\n",
    "            optimizer.step()\n",
    "\n",
    "            train_acc = test(data)\n",
    "            test_acc = test(data, train=False)\n",
    "\n",
    "            train_accuracies.append(train_acc)\n",
    "            test_accuracies.append(test_acc)\n",
    "            print('Epoch: {:03d}, Loss: {:.5f}, Train Acc: {:.5f}, Test Acc: {:.5f}'.\n",
    "                  format(epoch, loss, train_acc, test_acc))\n",
    "\n",
    "    # torch.save(model.state_dict(), 'new_model_weights.pth')"
   ]
  },
  {
   "cell_type": "code",
   "execution_count": 66,
   "id": "dd117089",
   "metadata": {},
   "outputs": [],
   "source": [
    "# if plot:\n",
    "#  plt.plot(train_accuracies, label=\"Train accuracy\")\n",
    "#  plt.plot(test_accuracies, label=\"Validation accuracy\")\n",
    "#  plt.xlabel(\"# Epoch\")\n",
    "#  plt.ylabel(\"Accuracy\")\n",
    "#  plt.legend(loc='upper right')\n",
    "#  plt.show()"
   ]
  },
  {
   "cell_type": "code",
   "execution_count": 67,
   "id": "abce96da",
   "metadata": {},
   "outputs": [
    {
     "name": "stdout",
     "output_type": "stream",
     "text": [
      "('x', tensor([[5.8258e+01, 2.4926e+01, 1.0000e+00,  ..., 9.0000e+00, 2.4938e+03,\n",
      "         8.1765e+00],\n",
      "        [5.2378e+01, 1.7044e+01, 1.0000e+00,  ..., 4.6000e+01, 1.2573e+03,\n",
      "         3.9291e+00],\n",
      "        [4.6099e+01, 1.7424e+01, 1.0000e+00,  ..., 3.3000e+01, 1.2540e+03,\n",
      "         4.3092e+00],\n",
      "        ...,\n",
      "        [3.4300e+01, 1.1673e+01, 0.0000e+00,  ..., 1.0000e+01, 3.9574e+02,\n",
      "         5.1394e+00],\n",
      "        [3.2677e+01, 1.2090e+01, 0.0000e+00,  ..., 1.2000e+01, 5.7344e+02,\n",
      "         7.3518e+00],\n",
      "        [2.7355e+01, 1.6197e+01, 0.0000e+00,  ..., 9.0000e+00, 2.3742e+02,\n",
      "         4.3966e+00]]))\n",
      "('edge_index', tensor([[    0,  3530,  3531,  ...,  8811, 10514,     0],\n",
      "        [ 3530,  3531,  3532,  ..., 10432,  8808, 10549]]))\n",
      "('y', tensor([ 451.,  475.,  477.,  728.,  967.,  979.,  981.,  983.,  445.,  456.,\n",
      "         462.,  864.,  940.,  448.,  469.,  516.,  527.,  712.,  716.,  443.,\n",
      "         453.,  464.,  468.,  474.,  446.,  470.,  941.,  974.,  975.,  977.,\n",
      "         520.,  523.,  525.,  526.,  714.,  721.,  519.,  524.,  962.,  439.,\n",
      "         450.,  717.,  971.,  989.,  454.,  459.,  460.,  463.,  467.,  512.,\n",
      "         432.,  437.,  457.,  722.,  865.,  869.,  438.,  440.,  452.,  713.,\n",
      "         969.,  461.,  466.,  482.,  486.,  472.,  866.,  984.,  444.,  484.,\n",
      "         485.,  488.,  517.,  723.,  441.,  442.,  515.,  870.,  965.,  968.,\n",
      "         985., 2005.,  433.,  434.,  455.,  476.,  478.,  514.,  522.,  720.,\n",
      "         990.,  431.,  513.,  518.,  727.,  867., 2011., 2012.,  961.,  973.,\n",
      "         980., 2024., 2026.,  471.,  479.,  483.,  521.,  719., 3687.,  868.,\n",
      "         964.,  943.,  992., 2025., 2030., 2006.,  944.,  982.,  991., 2007.,\n",
      "         963.,  966., 2023., 2008., 2019., 2028.,  970.,  986.,  988., 2015.,\n",
      "        2017., 2009., 2014.,  715.,  726.,  960., 2010., 2013., 2016., 2020.,\n",
      "        2021., 2022.,  976., 3686.,  435.,  449.,  473.,  480.,  481.,  718.,\n",
      "         972.,  978.,  436.,  447.,  465.,  487.,  724.,  725.,  942.,  987.,\n",
      "        2018., 2027., 2029.]))\n"
     ]
    }
   ],
   "source": [
    "for i in dt:\n",
    "    print(i)"
   ]
  },
  {
   "cell_type": "code",
   "execution_count": 68,
   "id": "9bd5cad8",
   "metadata": {},
   "outputs": [
    {
     "data": {
      "text/plain": [
       "163"
      ]
     },
     "execution_count": 68,
     "metadata": {},
     "output_type": "execute_result"
    }
   ],
   "source": [
    "len(dt.y.tolist())"
   ]
  },
  {
   "cell_type": "code",
   "execution_count": 69,
   "id": "26ecb5c9",
   "metadata": {},
   "outputs": [],
   "source": [
    "model = Net(dt)\n",
    "# data = dataset[0].to(device)"
   ]
  },
  {
   "cell_type": "code",
   "execution_count": 70,
   "id": "627cc8e9",
   "metadata": {},
   "outputs": [],
   "source": [
    "optimizer = torch.optim.Adam(model.parameters(), lr=0.01, weight_decay=5e-4)"
   ]
  },
  {
   "cell_type": "code",
   "execution_count": 71,
   "id": "3552fa28",
   "metadata": {},
   "outputs": [
    {
     "ename": "RuntimeError",
     "evalue": "index 3530 is out of bounds for dimension 0 with size 163",
     "output_type": "error",
     "traceback": [
      "\u001b[1;31m---------------------------------------------------------------------------\u001b[0m",
      "\u001b[1;31mRuntimeError\u001b[0m                              Traceback (most recent call last)",
      "\u001b[1;32m~\\AppData\\Local\\Temp/ipykernel_22508/70073335.py\u001b[0m in \u001b[0;36m<module>\u001b[1;34m\u001b[0m\n\u001b[1;32m----> 1\u001b[1;33m \u001b[0mtrain\u001b[0m\u001b[1;33m(\u001b[0m\u001b[0mdt\u001b[0m\u001b[1;33m,\u001b[0m\u001b[1;32mFalse\u001b[0m\u001b[1;33m)\u001b[0m\u001b[1;33m\u001b[0m\u001b[1;33m\u001b[0m\u001b[0m\n\u001b[0m",
      "\u001b[1;32m~\\AppData\\Local\\Temp/ipykernel_22508/2189662398.py\u001b[0m in \u001b[0;36mtrain\u001b[1;34m(data, plot)\u001b[0m\n\u001b[0;32m      6\u001b[0m             \u001b[0mmodel\u001b[0m\u001b[1;33m.\u001b[0m\u001b[0mtrain\u001b[0m\u001b[1;33m(\u001b[0m\u001b[1;33m)\u001b[0m\u001b[1;33m\u001b[0m\u001b[1;33m\u001b[0m\u001b[0m\n\u001b[0;32m      7\u001b[0m             \u001b[0moptimizer\u001b[0m\u001b[1;33m.\u001b[0m\u001b[0mzero_grad\u001b[0m\u001b[1;33m(\u001b[0m\u001b[1;33m)\u001b[0m\u001b[1;33m\u001b[0m\u001b[1;33m\u001b[0m\u001b[0m\n\u001b[1;32m----> 8\u001b[1;33m             \u001b[0mout\u001b[0m \u001b[1;33m=\u001b[0m \u001b[0mmodel\u001b[0m\u001b[1;33m(\u001b[0m\u001b[0mdata\u001b[0m\u001b[1;33m)\u001b[0m\u001b[1;33m\u001b[0m\u001b[1;33m\u001b[0m\u001b[0m\n\u001b[0m\u001b[0;32m      9\u001b[0m             \u001b[0mloss\u001b[0m \u001b[1;33m=\u001b[0m \u001b[0mF\u001b[0m\u001b[1;33m.\u001b[0m\u001b[0mnll_loss\u001b[0m\u001b[1;33m(\u001b[0m\u001b[0mout\u001b[0m\u001b[1;33m[\u001b[0m\u001b[0mdata\u001b[0m\u001b[1;33m.\u001b[0m\u001b[0mtrain_mask\u001b[0m\u001b[1;33m]\u001b[0m\u001b[1;33m,\u001b[0m \u001b[0mdata\u001b[0m\u001b[1;33m.\u001b[0m\u001b[0my\u001b[0m\u001b[1;33m[\u001b[0m\u001b[0mdata\u001b[0m\u001b[1;33m.\u001b[0m\u001b[0mtrain_mask\u001b[0m\u001b[1;33m]\u001b[0m\u001b[1;33m)\u001b[0m\u001b[1;33m\u001b[0m\u001b[1;33m\u001b[0m\u001b[0m\n\u001b[0;32m     10\u001b[0m             \u001b[0mloss\u001b[0m\u001b[1;33m.\u001b[0m\u001b[0mbackward\u001b[0m\u001b[1;33m(\u001b[0m\u001b[1;33m)\u001b[0m\u001b[1;33m\u001b[0m\u001b[1;33m\u001b[0m\u001b[0m\n",
      "\u001b[1;32m~\\Anaconda3\\envs\\graph_neural_network\\lib\\site-packages\\torch\\nn\\modules\\module.py\u001b[0m in \u001b[0;36m_call_impl\u001b[1;34m(self, *input, **kwargs)\u001b[0m\n\u001b[0;32m   1100\u001b[0m         if not (self._backward_hooks or self._forward_hooks or self._forward_pre_hooks or _global_backward_hooks\n\u001b[0;32m   1101\u001b[0m                 or _global_forward_hooks or _global_forward_pre_hooks):\n\u001b[1;32m-> 1102\u001b[1;33m             \u001b[1;32mreturn\u001b[0m \u001b[0mforward_call\u001b[0m\u001b[1;33m(\u001b[0m\u001b[1;33m*\u001b[0m\u001b[0minput\u001b[0m\u001b[1;33m,\u001b[0m \u001b[1;33m**\u001b[0m\u001b[0mkwargs\u001b[0m\u001b[1;33m)\u001b[0m\u001b[1;33m\u001b[0m\u001b[1;33m\u001b[0m\u001b[0m\n\u001b[0m\u001b[0;32m   1103\u001b[0m         \u001b[1;31m# Do not call functions when jit is used\u001b[0m\u001b[1;33m\u001b[0m\u001b[1;33m\u001b[0m\u001b[1;33m\u001b[0m\u001b[0m\n\u001b[0;32m   1104\u001b[0m         \u001b[0mfull_backward_hooks\u001b[0m\u001b[1;33m,\u001b[0m \u001b[0mnon_full_backward_hooks\u001b[0m \u001b[1;33m=\u001b[0m \u001b[1;33m[\u001b[0m\u001b[1;33m]\u001b[0m\u001b[1;33m,\u001b[0m \u001b[1;33m[\u001b[0m\u001b[1;33m]\u001b[0m\u001b[1;33m\u001b[0m\u001b[1;33m\u001b[0m\u001b[0m\n",
      "\u001b[1;32m~\\AppData\\Local\\Temp/ipykernel_22508/2509021686.py\u001b[0m in \u001b[0;36mforward\u001b[1;34m(self, data)\u001b[0m\n\u001b[0;32m     14\u001b[0m     \u001b[1;32mdef\u001b[0m \u001b[0mforward\u001b[0m\u001b[1;33m(\u001b[0m\u001b[0mself\u001b[0m\u001b[1;33m,\u001b[0m \u001b[0mdata\u001b[0m\u001b[1;33m)\u001b[0m\u001b[1;33m:\u001b[0m\u001b[1;33m\u001b[0m\u001b[1;33m\u001b[0m\u001b[0m\n\u001b[0;32m     15\u001b[0m         \u001b[0mx\u001b[0m\u001b[1;33m,\u001b[0m \u001b[0medge_index\u001b[0m \u001b[1;33m=\u001b[0m \u001b[0mdata\u001b[0m\u001b[1;33m.\u001b[0m\u001b[0mx\u001b[0m\u001b[1;33m,\u001b[0m \u001b[0mdata\u001b[0m\u001b[1;33m.\u001b[0m\u001b[0medge_index\u001b[0m\u001b[1;33m\u001b[0m\u001b[1;33m\u001b[0m\u001b[0m\n\u001b[1;32m---> 16\u001b[1;33m         \u001b[0mx\u001b[0m \u001b[1;33m=\u001b[0m \u001b[0mself\u001b[0m\u001b[1;33m.\u001b[0m\u001b[0mconv1\u001b[0m\u001b[1;33m(\u001b[0m\u001b[0mx\u001b[0m\u001b[1;33m,\u001b[0m \u001b[0medge_index\u001b[0m\u001b[1;33m)\u001b[0m\u001b[1;33m\u001b[0m\u001b[1;33m\u001b[0m\u001b[0m\n\u001b[0m\u001b[0;32m     17\u001b[0m         \u001b[0mx\u001b[0m \u001b[1;33m=\u001b[0m \u001b[0mF\u001b[0m\u001b[1;33m.\u001b[0m\u001b[0mrelu\u001b[0m\u001b[1;33m(\u001b[0m\u001b[0mx\u001b[0m\u001b[1;33m)\u001b[0m\u001b[1;33m\u001b[0m\u001b[1;33m\u001b[0m\u001b[0m\n\u001b[0;32m     18\u001b[0m         \u001b[0mx\u001b[0m \u001b[1;33m=\u001b[0m \u001b[0mF\u001b[0m\u001b[1;33m.\u001b[0m\u001b[0mdropout\u001b[0m\u001b[1;33m(\u001b[0m\u001b[0mx\u001b[0m\u001b[1;33m,\u001b[0m \u001b[0mtraining\u001b[0m\u001b[1;33m=\u001b[0m\u001b[0mself\u001b[0m\u001b[1;33m.\u001b[0m\u001b[0mtraining\u001b[0m\u001b[1;33m)\u001b[0m\u001b[1;33m\u001b[0m\u001b[1;33m\u001b[0m\u001b[0m\n",
      "\u001b[1;32m~\\Anaconda3\\envs\\graph_neural_network\\lib\\site-packages\\torch\\nn\\modules\\module.py\u001b[0m in \u001b[0;36m_call_impl\u001b[1;34m(self, *input, **kwargs)\u001b[0m\n\u001b[0;32m   1100\u001b[0m         if not (self._backward_hooks or self._forward_hooks or self._forward_pre_hooks or _global_backward_hooks\n\u001b[0;32m   1101\u001b[0m                 or _global_forward_hooks or _global_forward_pre_hooks):\n\u001b[1;32m-> 1102\u001b[1;33m             \u001b[1;32mreturn\u001b[0m \u001b[0mforward_call\u001b[0m\u001b[1;33m(\u001b[0m\u001b[1;33m*\u001b[0m\u001b[0minput\u001b[0m\u001b[1;33m,\u001b[0m \u001b[1;33m**\u001b[0m\u001b[0mkwargs\u001b[0m\u001b[1;33m)\u001b[0m\u001b[1;33m\u001b[0m\u001b[1;33m\u001b[0m\u001b[0m\n\u001b[0m\u001b[0;32m   1103\u001b[0m         \u001b[1;31m# Do not call functions when jit is used\u001b[0m\u001b[1;33m\u001b[0m\u001b[1;33m\u001b[0m\u001b[1;33m\u001b[0m\u001b[0m\n\u001b[0;32m   1104\u001b[0m         \u001b[0mfull_backward_hooks\u001b[0m\u001b[1;33m,\u001b[0m \u001b[0mnon_full_backward_hooks\u001b[0m \u001b[1;33m=\u001b[0m \u001b[1;33m[\u001b[0m\u001b[1;33m]\u001b[0m\u001b[1;33m,\u001b[0m \u001b[1;33m[\u001b[0m\u001b[1;33m]\u001b[0m\u001b[1;33m\u001b[0m\u001b[1;33m\u001b[0m\u001b[0m\n",
      "\u001b[1;32m~\\AppData\\Local\\Temp/ipykernel_22508/3790903005.py\u001b[0m in \u001b[0;36mforward\u001b[1;34m(self, x, edge_index)\u001b[0m\n\u001b[0;32m     14\u001b[0m         \u001b[1;31m# Step 3: Calculate the normalization\u001b[0m\u001b[1;33m\u001b[0m\u001b[1;33m\u001b[0m\u001b[1;33m\u001b[0m\u001b[0m\n\u001b[0;32m     15\u001b[0m         \u001b[0mrow\u001b[0m\u001b[1;33m,\u001b[0m \u001b[0mcol\u001b[0m \u001b[1;33m=\u001b[0m \u001b[0medge_index\u001b[0m\u001b[1;33m\u001b[0m\u001b[1;33m\u001b[0m\u001b[0m\n\u001b[1;32m---> 16\u001b[1;33m         \u001b[0mdeg\u001b[0m \u001b[1;33m=\u001b[0m \u001b[0mdegree\u001b[0m\u001b[1;33m(\u001b[0m\u001b[0mrow\u001b[0m\u001b[1;33m,\u001b[0m \u001b[0mx\u001b[0m\u001b[1;33m.\u001b[0m\u001b[0msize\u001b[0m\u001b[1;33m(\u001b[0m\u001b[1;36m0\u001b[0m\u001b[1;33m)\u001b[0m\u001b[1;33m,\u001b[0m \u001b[0mdtype\u001b[0m\u001b[1;33m=\u001b[0m\u001b[0mx\u001b[0m\u001b[1;33m.\u001b[0m\u001b[0mdtype\u001b[0m\u001b[1;33m)\u001b[0m\u001b[1;33m\u001b[0m\u001b[1;33m\u001b[0m\u001b[0m\n\u001b[0m\u001b[0;32m     17\u001b[0m         \u001b[0mdeg_inv_sqrt\u001b[0m \u001b[1;33m=\u001b[0m \u001b[0mdeg\u001b[0m\u001b[1;33m.\u001b[0m\u001b[0mpow\u001b[0m\u001b[1;33m(\u001b[0m\u001b[1;33m-\u001b[0m\u001b[1;36m0.5\u001b[0m\u001b[1;33m)\u001b[0m\u001b[1;33m\u001b[0m\u001b[1;33m\u001b[0m\u001b[0m\n\u001b[0;32m     18\u001b[0m         \u001b[0mnorm\u001b[0m \u001b[1;33m=\u001b[0m \u001b[0mdeg_inv_sqrt\u001b[0m\u001b[1;33m[\u001b[0m\u001b[0mrow\u001b[0m\u001b[1;33m]\u001b[0m \u001b[1;33m*\u001b[0m \u001b[0mdeg_inv_sqrt\u001b[0m\u001b[1;33m[\u001b[0m\u001b[0mcol\u001b[0m\u001b[1;33m]\u001b[0m\u001b[1;33m\u001b[0m\u001b[1;33m\u001b[0m\u001b[0m\n",
      "\u001b[1;32m~\\Anaconda3\\envs\\graph_neural_network\\lib\\site-packages\\torch_geometric\\utils\\degree.py\u001b[0m in \u001b[0;36mdegree\u001b[1;34m(index, num_nodes, dtype)\u001b[0m\n\u001b[0;32m     23\u001b[0m     \u001b[0mout\u001b[0m \u001b[1;33m=\u001b[0m \u001b[0mtorch\u001b[0m\u001b[1;33m.\u001b[0m\u001b[0mzeros\u001b[0m\u001b[1;33m(\u001b[0m\u001b[1;33m(\u001b[0m\u001b[0mN\u001b[0m\u001b[1;33m,\u001b[0m \u001b[1;33m)\u001b[0m\u001b[1;33m,\u001b[0m \u001b[0mdtype\u001b[0m\u001b[1;33m=\u001b[0m\u001b[0mdtype\u001b[0m\u001b[1;33m,\u001b[0m \u001b[0mdevice\u001b[0m\u001b[1;33m=\u001b[0m\u001b[0mindex\u001b[0m\u001b[1;33m.\u001b[0m\u001b[0mdevice\u001b[0m\u001b[1;33m)\u001b[0m\u001b[1;33m\u001b[0m\u001b[1;33m\u001b[0m\u001b[0m\n\u001b[0;32m     24\u001b[0m     \u001b[0mone\u001b[0m \u001b[1;33m=\u001b[0m \u001b[0mtorch\u001b[0m\u001b[1;33m.\u001b[0m\u001b[0mones\u001b[0m\u001b[1;33m(\u001b[0m\u001b[1;33m(\u001b[0m\u001b[0mindex\u001b[0m\u001b[1;33m.\u001b[0m\u001b[0msize\u001b[0m\u001b[1;33m(\u001b[0m\u001b[1;36m0\u001b[0m\u001b[1;33m)\u001b[0m\u001b[1;33m,\u001b[0m \u001b[1;33m)\u001b[0m\u001b[1;33m,\u001b[0m \u001b[0mdtype\u001b[0m\u001b[1;33m=\u001b[0m\u001b[0mout\u001b[0m\u001b[1;33m.\u001b[0m\u001b[0mdtype\u001b[0m\u001b[1;33m,\u001b[0m \u001b[0mdevice\u001b[0m\u001b[1;33m=\u001b[0m\u001b[0mout\u001b[0m\u001b[1;33m.\u001b[0m\u001b[0mdevice\u001b[0m\u001b[1;33m)\u001b[0m\u001b[1;33m\u001b[0m\u001b[1;33m\u001b[0m\u001b[0m\n\u001b[1;32m---> 25\u001b[1;33m     \u001b[1;32mreturn\u001b[0m \u001b[0mout\u001b[0m\u001b[1;33m.\u001b[0m\u001b[0mscatter_add_\u001b[0m\u001b[1;33m(\u001b[0m\u001b[1;36m0\u001b[0m\u001b[1;33m,\u001b[0m \u001b[0mindex\u001b[0m\u001b[1;33m,\u001b[0m \u001b[0mone\u001b[0m\u001b[1;33m)\u001b[0m\u001b[1;33m\u001b[0m\u001b[1;33m\u001b[0m\u001b[0m\n\u001b[0m",
      "\u001b[1;31mRuntimeError\u001b[0m: index 3530 is out of bounds for dimension 0 with size 163"
     ]
    }
   ],
   "source": [
    "train(dt,False)"
   ]
  },
  {
   "cell_type": "code",
   "execution_count": null,
   "id": "96c2e2a6",
   "metadata": {},
   "outputs": [],
   "source": [
    "len(dt.x)"
   ]
  },
  {
   "cell_type": "code",
   "execution_count": null,
   "id": "ddca8836",
   "metadata": {},
   "outputs": [],
   "source": []
  }
 ],
 "metadata": {
  "kernelspec": {
   "display_name": "Python 3 (ipykernel)",
   "language": "python",
   "name": "python3"
  },
  "language_info": {
   "codemirror_mode": {
    "name": "ipython",
    "version": 3
   },
   "file_extension": ".py",
   "mimetype": "text/x-python",
   "name": "python",
   "nbconvert_exporter": "python",
   "pygments_lexer": "ipython3",
   "version": "3.9.7"
  }
 },
 "nbformat": 4,
 "nbformat_minor": 5
}
